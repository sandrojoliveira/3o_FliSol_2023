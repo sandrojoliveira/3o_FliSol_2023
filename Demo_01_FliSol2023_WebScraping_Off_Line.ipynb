{
 "cells": [
  {
   "attachments": {},
   "cell_type": "markdown",
   "metadata": {},
   "source": [
    "![title](imagens/logo_flisol_demo01_Teste.png)"
   ]
  },
  {
   "attachments": {},
   "cell_type": "markdown",
   "metadata": {},
   "source": [
    "# Objetivo da Demo\n",
    "\n",
    "Faremos Scraping (raspagem) no site da Amazon Americana para buscar preços, configurações e avaliações de notebooks, fazendo todo tratamento necessário nos dados vindos do site."
   ]
  },
  {
   "attachments": {},
   "cell_type": "markdown",
   "metadata": {},
   "source": [
    "## Carregando os Pacotes \"Padrão\" Necessários"
   ]
  },
  {
   "cell_type": "code",
   "execution_count": 44,
   "metadata": {},
   "outputs": [],
   "source": [
    "import bs4\n",
    "import requests\n",
    "import pandas as pd\n",
    "import numpy as np\n",
    "from bs4 import BeautifulSoup"
   ]
  },
  {
   "attachments": {},
   "cell_type": "markdown",
   "metadata": {},
   "source": [
    "## Web Scraping\n",
    "\n",
    "O primeiro passo é você acessar o endereço abaixo:\n",
    "\n",
    "https://www.amazon.com/s?k=laptops&page=\n",
    "\n",
    "Esse endereço é o resultado da busca por \"laptops\". Inspecionaremos o código fonte da página.\n",
    "\n",
    "Coletaremos as informações relevantes das primeiras 10 páginas do resultado da pesquisa, pois isso nos fornecerá dados suficientes para a análise. \n",
    "Criaremos então um dataframe a partir dos dados coletados. \n",
    "\n",
    "Criaremos funções mostrando como organizar melhor o código!"
   ]
  },
  {
   "attachments": {},
   "cell_type": "markdown",
   "metadata": {},
   "source": [
    "## Função Leitura da Página da Amanzon na Pesquisa\n",
    "### Esta função define o cabeçalho da conexão ao site da Amazon e faz a requisição para extrair os dados"
   ]
  },
  {
   "cell_type": "code",
   "execution_count": 54,
   "metadata": {},
   "outputs": [],
   "source": [
    "def faz_request(num_page):\n",
    "    \n",
    "    headers01 = {\"User-Agent\": \"Mozilla/5.0 (Windows NT 11.0; Win64; x64; rv:66.0) Gecko/20100101 Firefox/66.0\",\n",
    "       \"Accept-Encoding\": \"gzip, deflate\", \"Accept\": \"text/html,application/xhtml+xml,application/xml;q=0.9,*/*;q=0.8\",\n",
    "       \"DNT\": \"1\", \"Connection\": \"close\", \"Upgrade-Insecure-Requests\": \"1\",\"Accept-Language\": \"en-US,en;q=0.5\"}\n",
    "\n",
    "\n",
    "    # Cabeçalho para evitar problema de conexão não segura ao site da Amazon\n",
    "    \n",
    "    \n",
    "    headers02 = {\n",
    "                'User-Agent': ('Mozilla/5.0 (X11; Linux x86_64)'\n",
    "                    'AppleWebKit/537.36 (KHTML, like Gecko)'\n",
    "                    'Chrome/44.0.2403.157 Safari/537.36'),\n",
    "                    'Accept-Language': 'en-US, en;q=0.5'\n",
    "                }\n",
    "\n",
    "    headers03 = {\n",
    "                \n",
    "                'dnt': '1',\n",
    "                'upgrade-insecure-requests': '1',\n",
    "                'user-agent': 'Mozilla/5.0 (Macintosh; Intel Mac OS X 10_15_4) AppleWebKit/537.36 (KHTML, like Gecko) Chrome/83.0.4103.61 Safari/537.36',\n",
    "                'accept': 'text/html,application/xhtml+xml,application/xml;q=0.9,image/webp,image/apng,*/*;q=0.8,application/signed-exchange;v=b3;q=0.9',\n",
    "                'sec-fetch-site': 'same-origin',\n",
    "                'sec-fetch-mode': 'navigate',\n",
    "                'sec-fetch-user': '?1',\n",
    "                'sec-fetch-dest': 'document',\n",
    "                'referer': 'https://www.amazon.com/',\n",
    "                'accept-language': 'en-GB,en-US;q=0.9,en;q=0.8',\n",
    "                }\n",
    "\n",
    "\n",
    "    # Request para cada página do resultado de pesquisa\n",
    "    # No parâmetro num_page, será passado o número da página a ser lida\n",
    "    requisicao = requests.get('https://www.amazon.com/s?k=laptops&page='+str(num_page), headers = headers03)\n",
    "    \n",
    "    return requisicao"
   ]
  },
  {
   "attachments": {},
   "cell_type": "markdown",
   "metadata": {},
   "source": [
    "## Função Extração do conteúdo da leitura da página numéro tal da pesquisa "
   ]
  },
  {
   "cell_type": "code",
   "execution_count": 46,
   "metadata": {},
   "outputs": [],
   "source": [
    "# Função para extrair o conteúdo\n",
    "def extrai_conteudo(requisicao):\n",
    "    return requisicao.content"
   ]
  },
  {
   "attachments": {},
   "cell_type": "markdown",
   "metadata": {},
   "source": [
    "## Função Leitura do HTML da página numéro tal da pesquisa da Pesquisa\n"
   ]
  },
  {
   "cell_type": "code",
   "execution_count": 47,
   "metadata": {},
   "outputs": [],
   "source": [
    "# Função para o parse do conteúdo extraído do site da Amazon\n",
    "def formata_conteudo(conteudo):\n",
    "    return BeautifulSoup(conteudo, 'lxml')\n",
    "    "
   ]
  },
  {
   "attachments": {},
   "cell_type": "markdown",
   "metadata": {},
   "source": [
    "## Função Extração do Nome do Notebook do HTML da Página de Pesquisa da Amanzon\n",
    "#### Procuramos normalmente pela classe do CSS da Tag"
   ]
  },
  {
   "cell_type": "code",
   "execution_count": 48,
   "metadata": {},
   "outputs": [],
   "source": [
    "# Função para extrair o nome do notebook\n",
    "def extrai_nome(div):\n",
    "    \n",
    "    # Busca pela tag span, classe 'a-size-medium a-color-base a-text-normal', onde está o nome do notebook                                                      \n",
    "    span_nome = div.find('span', attrs = {'class':'a-size-medium a-color-base a-text-normal'})\n",
    "       \n",
    "    # Se o valor não for vazio, extrai o valor (nome)\n",
    "    if span_nome is not None:\n",
    "        return span_nome.text\n",
    "    else:\n",
    "        return 'no-info' "
   ]
  },
  {
   "attachments": {},
   "cell_type": "markdown",
   "metadata": {},
   "source": [
    "## Função Extração do Preço do Notebook do HTML da Página de Pesquisa da Amanzon\n",
    "#### Procuramos normalmente pela classe do CSS da Tag"
   ]
  },
  {
   "cell_type": "code",
   "execution_count": 49,
   "metadata": {},
   "outputs": [],
   "source": [
    "# Função para extrair o preço\n",
    "def extrai_preco(div):\n",
    "    \n",
    "    # Busca pela tag span, classe 'a-offscreen', onde está o preço do notebook\n",
    "    span_preco = div.find('span', attrs = {'class':'a-offscreen'})\n",
    "    \n",
    "    # Se o valor não for vazio, extrai o valor (preço)\n",
    "    if span_preco is not None:\n",
    "        return span_preco.text\n",
    "    else:\n",
    "        return 'no-info'"
   ]
  },
  {
   "attachments": {},
   "cell_type": "markdown",
   "metadata": {},
   "source": [
    "## Função Extração da Avaliação do Notebook do HTML da Página de Pesquisa da Amanzon\n",
    "#### Procuramos normalmente pela classe do CSS da Tag"
   ]
  },
  {
   "cell_type": "code",
   "execution_count": 50,
   "metadata": {},
   "outputs": [],
   "source": [
    "# Função para extrair a avaliação dos clientes\n",
    "def extrai_aval(div):\n",
    "    \n",
    "    # Busca pela tag span, classe 'a-icon-alt', onde está a avaliação do notebook\n",
    "    span_aval = div.find('span', attrs = {'class':'a-icon-alt'})\n",
    "    \n",
    "    # Se o valor não for vazio, extrai o valor (avaliação)\n",
    "    if span_aval is not None:\n",
    "        return span_aval.text\n",
    "    else:\n",
    "        return 'no-info'  "
   ]
  },
  {
   "cell_type": "code",
   "execution_count": 51,
   "metadata": {},
   "outputs": [],
   "source": [
    "# Lista para receber os dados\n",
    "# dados_notebooks = []\n",
    "\n",
    "# Cria o dataframe para receber os dados\n",
    "df_dados_notebooks = pd.DataFrame(columns = [\"Nome\", \"Preco\", \"Avaliacao\"])"
   ]
  },
  {
   "cell_type": "code",
   "execution_count": 52,
   "metadata": {},
   "outputs": [],
   "source": [
    "# nome = 'Nome'\n",
    "# preco = \"1\"\n",
    "# aval = \"4\"\n",
    "# #dados_notebooks = dados_notebooks.append([nome, preco, aval])\n",
    "\n",
    "\n",
    "# novo_notebook = pd.Series({\"Nome\":'Fulano', \n",
    "#                            \"Preco\":'1', \n",
    "#                            \"Avaliacao\":'4'})       \n",
    "# dados_notebooks = pd.concat([df_dados_notebooks,novo_notebook.to_frame().T],ignore_index=True)\n",
    "\n"
   ]
  },
  {
   "attachments": {},
   "cell_type": "markdown",
   "metadata": {},
   "source": [
    "## Faz o Loop para a Leitura das 10 Primeiras Páginas de Pesquisa da Amazon"
   ]
  },
  {
   "cell_type": "code",
   "execution_count": 72,
   "metadata": {},
   "outputs": [
    {
     "name": "stdout",
     "output_type": "stream",
     "text": [
      "\n",
      "Executando Web Scraping...\n",
      "\n",
      "\n",
      "Extração da Página 1 Concluída.\n",
      "\n",
      "\n",
      "Extração da Página 2 Concluída.\n",
      "\n",
      "\n",
      "Extração da Página 3 Concluída.\n",
      "\n",
      "\n",
      "Extração da Página 4 Concluída.\n",
      "\n",
      "\n",
      "Extração da Página 5 Concluída.\n",
      "\n",
      "\n",
      "Extração da Página 6 Concluída.\n",
      "\n",
      "\n",
      "Extração da Página 7 Concluída.\n",
      "\n",
      "\n",
      "Extração da Página 8 Concluída.\n",
      "\n",
      "\n",
      "Extração da Página 9 Concluída.\n",
      "\n",
      "\n",
      "Extração Concluída.\n",
      "\n"
     ]
    }
   ],
   "source": [
    "# Loop por cada página retornada no scraping...\n",
    "print(\"\\nExecutando Web Scraping...\\n\")\n",
    "\n",
    "# Loop\n",
    "for num_page in range(1,10):\n",
    "    \n",
    "    # Faz a request\n",
    "    requisicao = faz_request(num_page)\n",
    "    \n",
    "    # Exrai o conteúdo\n",
    "    conteudo = extrai_conteudo(requisicao)\n",
    "    \n",
    "    # Formata o conteúdo\n",
    "    soup = formata_conteudo(conteudo)   \n",
    "\n",
    "    #print(soup)\n",
    "    \n",
    "    # Loop pelo conteúdo  \n",
    "    # s-main-slot s-result-list s-search-results sg-row\n",
    "    # a-section a-spacing-small a-spacing-top-small\n",
    "    #for info in soup.findAll('div', attrs = {'class':'sg-col-inner'}):\n",
    "    for info in soup.findAll('div', attrs = {'class':'a-section a-spacing-small a-spacing-top-small'}):\n",
    "        \n",
    "        # Extrai o nome do notebook\n",
    "        nome = extrai_nome(info)\n",
    "        \n",
    "        # Extrai o preço do notebook\n",
    "        preco = extrai_preco(info)\n",
    "        \n",
    "        # Extrai a avaliação do notebook\n",
    "        aval = extrai_aval(info)\n",
    "        \n",
    "        novo_notebook = pd.Series({\"Nome\":nome, \n",
    "                           \"Preco\":preco, \n",
    "                           \"Avaliacao\":aval})       \n",
    "        # dados_notebooks = pd.concat([dados_notebooks,novo_notebook.to_frame().T],ignore_index=True)\n",
    "        df_dados_notebooks = pd.concat([df_dados_notebooks,novo_notebook.to_frame().T],ignore_index=True)\n",
    "\n",
    "        # Adiciona os dados à lista\n",
    "        # dados_notebooks = dados_notebooks.append([nome, preco, aval])\n",
    "\n",
    "    print(\"\\nExtração da Página \" + str(num_page) + \" Concluída.\\n\")\n",
    "\n",
    "print(\"\\nExtração Concluída.\\n\")"
   ]
  },
  {
   "attachments": {},
   "cell_type": "markdown",
   "metadata": {},
   "source": [
    "Mostra as Dimensões do DataFrame (Nº de Linhas e Colunas)"
   ]
  },
  {
   "cell_type": "code",
   "execution_count": 73,
   "metadata": {},
   "outputs": [
    {
     "data": {
      "text/plain": [
       "(257, 3)"
      ]
     },
     "execution_count": 73,
     "metadata": {},
     "output_type": "execute_result"
    }
   ],
   "source": [
    "# Shape\n",
    "df_dados_notebooks.shape"
   ]
  },
  {
   "attachments": {},
   "cell_type": "markdown",
   "metadata": {},
   "source": [
    "Visualiza as 5 Primeiras Linhas do DataFrame"
   ]
  },
  {
   "cell_type": "code",
   "execution_count": 74,
   "metadata": {},
   "outputs": [
    {
     "data": {
      "text/html": [
       "<div>\n",
       "<style scoped>\n",
       "    .dataframe tbody tr th:only-of-type {\n",
       "        vertical-align: middle;\n",
       "    }\n",
       "\n",
       "    .dataframe tbody tr th {\n",
       "        vertical-align: top;\n",
       "    }\n",
       "\n",
       "    .dataframe thead th {\n",
       "        text-align: right;\n",
       "    }\n",
       "</style>\n",
       "<table border=\"1\" class=\"dataframe\">\n",
       "  <thead>\n",
       "    <tr style=\"text-align: right;\">\n",
       "      <th></th>\n",
       "      <th>Nome</th>\n",
       "      <th>Preco</th>\n",
       "      <th>Avaliacao</th>\n",
       "    </tr>\n",
       "  </thead>\n",
       "  <tbody>\n",
       "    <tr>\n",
       "      <th>0</th>\n",
       "      <td>Lenovo IdeaPad 15.6\" Laptop Newest, 15.6 Inch ...</td>\n",
       "      <td>$399.98</td>\n",
       "      <td>4.3 out of 5 stars</td>\n",
       "    </tr>\n",
       "    <tr>\n",
       "      <th>1</th>\n",
       "      <td>Lenovo IdeaPad 15.6\" Laptop Newest, 15.6 Inch ...</td>\n",
       "      <td>$399.98</td>\n",
       "      <td>4.3 out of 5 stars</td>\n",
       "    </tr>\n",
       "    <tr>\n",
       "      <th>2</th>\n",
       "      <td>Lenovo IdeaPad 15.6\" Laptop Newest, 15.6 Inch ...</td>\n",
       "      <td>$399.98</td>\n",
       "      <td>4.3 out of 5 stars</td>\n",
       "    </tr>\n",
       "    <tr>\n",
       "      <th>3</th>\n",
       "      <td>ASUS VivoBook 15 F515 Thin and Light Laptop, 1...</td>\n",
       "      <td>$499.99</td>\n",
       "      <td>4.3 out of 5 stars</td>\n",
       "    </tr>\n",
       "    <tr>\n",
       "      <th>4</th>\n",
       "      <td>no-info</td>\n",
       "      <td>no-info</td>\n",
       "      <td>no-info</td>\n",
       "    </tr>\n",
       "  </tbody>\n",
       "</table>\n",
       "</div>"
      ],
      "text/plain": [
       "                                                Nome    Preco  \\\n",
       "0  Lenovo IdeaPad 15.6\" Laptop Newest, 15.6 Inch ...  $399.98   \n",
       "1  Lenovo IdeaPad 15.6\" Laptop Newest, 15.6 Inch ...  $399.98   \n",
       "2  Lenovo IdeaPad 15.6\" Laptop Newest, 15.6 Inch ...  $399.98   \n",
       "3  ASUS VivoBook 15 F515 Thin and Light Laptop, 1...  $499.99   \n",
       "4                                            no-info  no-info   \n",
       "\n",
       "            Avaliacao  \n",
       "0  4.3 out of 5 stars  \n",
       "1  4.3 out of 5 stars  \n",
       "2  4.3 out of 5 stars  \n",
       "3  4.3 out of 5 stars  \n",
       "4             no-info  "
      ]
     },
     "execution_count": 74,
     "metadata": {},
     "output_type": "execute_result"
    }
   ],
   "source": [
    "# Visualiza os dados\n",
    "df_dados_notebooks.head()"
   ]
  },
  {
   "cell_type": "code",
   "execution_count": 75,
   "metadata": {},
   "outputs": [
    {
     "data": {
      "text/html": [
       "<div>\n",
       "<style scoped>\n",
       "    .dataframe tbody tr th:only-of-type {\n",
       "        vertical-align: middle;\n",
       "    }\n",
       "\n",
       "    .dataframe tbody tr th {\n",
       "        vertical-align: top;\n",
       "    }\n",
       "\n",
       "    .dataframe thead th {\n",
       "        text-align: right;\n",
       "    }\n",
       "</style>\n",
       "<table border=\"1\" class=\"dataframe\">\n",
       "  <thead>\n",
       "    <tr style=\"text-align: right;\">\n",
       "      <th></th>\n",
       "      <th>Nome</th>\n",
       "      <th>Preco</th>\n",
       "      <th>Avaliacao</th>\n",
       "    </tr>\n",
       "  </thead>\n",
       "  <tbody>\n",
       "    <tr>\n",
       "      <th>0</th>\n",
       "      <td>Lenovo IdeaPad 15.6\" Laptop Newest, 15.6 Inch ...</td>\n",
       "      <td>$399.98</td>\n",
       "      <td>4.3 out of 5 stars</td>\n",
       "    </tr>\n",
       "    <tr>\n",
       "      <th>1</th>\n",
       "      <td>Lenovo IdeaPad 15.6\" Laptop Newest, 15.6 Inch ...</td>\n",
       "      <td>$399.98</td>\n",
       "      <td>4.3 out of 5 stars</td>\n",
       "    </tr>\n",
       "    <tr>\n",
       "      <th>2</th>\n",
       "      <td>Lenovo IdeaPad 15.6\" Laptop Newest, 15.6 Inch ...</td>\n",
       "      <td>$399.98</td>\n",
       "      <td>4.3 out of 5 stars</td>\n",
       "    </tr>\n",
       "    <tr>\n",
       "      <th>3</th>\n",
       "      <td>ASUS VivoBook 15 F515 Thin and Light Laptop, 1...</td>\n",
       "      <td>$499.99</td>\n",
       "      <td>4.3 out of 5 stars</td>\n",
       "    </tr>\n",
       "    <tr>\n",
       "      <th>4</th>\n",
       "      <td>no-info</td>\n",
       "      <td>no-info</td>\n",
       "      <td>no-info</td>\n",
       "    </tr>\n",
       "    <tr>\n",
       "      <th>5</th>\n",
       "      <td>Lenovo IdeaPad 15.6\" Laptop Newest, 15.6 Inch ...</td>\n",
       "      <td>$399.98</td>\n",
       "      <td>4.3 out of 5 stars</td>\n",
       "    </tr>\n",
       "    <tr>\n",
       "      <th>6</th>\n",
       "      <td>Lenovo 15.6\" IdeaPad 1 Laptop, AMD Dual-core P...</td>\n",
       "      <td>$399.00</td>\n",
       "      <td>4.2 out of 5 stars</td>\n",
       "    </tr>\n",
       "    <tr>\n",
       "      <th>7</th>\n",
       "      <td>Lenovo 2022 Newest Ideapad 3 Laptop, 15.6\" HD ...</td>\n",
       "      <td>$383.00</td>\n",
       "      <td>4.4 out of 5 stars</td>\n",
       "    </tr>\n",
       "    <tr>\n",
       "      <th>8</th>\n",
       "      <td>HP 2021 Stream 14\" HD SVA Laptop Computer, Int...</td>\n",
       "      <td>$289.00</td>\n",
       "      <td>4.2 out of 5 stars</td>\n",
       "    </tr>\n",
       "    <tr>\n",
       "      <th>9</th>\n",
       "      <td>Lenovo Newest IdeaPad 1i 14\" HD Laptop, 4GB RA...</td>\n",
       "      <td>$228.95</td>\n",
       "      <td>4.4 out of 5 stars</td>\n",
       "    </tr>\n",
       "    <tr>\n",
       "      <th>10</th>\n",
       "      <td>Lenovo ThinkBook 15 Premium Business Laptop, A...</td>\n",
       "      <td>$648.99</td>\n",
       "      <td>4.7 out of 5 stars</td>\n",
       "    </tr>\n",
       "    <tr>\n",
       "      <th>11</th>\n",
       "      <td>ASUS VivoBook 15 F515 Thin and Light Laptop, 1...</td>\n",
       "      <td>$499.99</td>\n",
       "      <td>4.3 out of 5 stars</td>\n",
       "    </tr>\n",
       "    <tr>\n",
       "      <th>12</th>\n",
       "      <td>Gateway Newest Touchscreen 11.6 HD 2-in-1 Conv...</td>\n",
       "      <td>$138.00</td>\n",
       "      <td>3.9 out of 5 stars</td>\n",
       "    </tr>\n",
       "    <tr>\n",
       "      <th>13</th>\n",
       "      <td>Dell 2022 Newest Inspiron 15 3511 Laptop, 15.6...</td>\n",
       "      <td>$596.00</td>\n",
       "      <td>4.3 out of 5 stars</td>\n",
       "    </tr>\n",
       "    <tr>\n",
       "      <th>14</th>\n",
       "      <td>Lenovo IdeaPad 15.6\" Laptop Newest, 15.6 Inch ...</td>\n",
       "      <td>$399.98</td>\n",
       "      <td>4.3 out of 5 stars</td>\n",
       "    </tr>\n",
       "    <tr>\n",
       "      <th>15</th>\n",
       "      <td>Dell Newest Inspiron 15 3511 Laptop, 15.6\" FHD...</td>\n",
       "      <td>$521.00</td>\n",
       "      <td>4.1 out of 5 stars</td>\n",
       "    </tr>\n",
       "    <tr>\n",
       "      <th>16</th>\n",
       "      <td>Acer 2023 Newest Aspire 5 15.6\" FHD IPS Slim L...</td>\n",
       "      <td>$499.00</td>\n",
       "      <td>4.3 out of 5 stars</td>\n",
       "    </tr>\n",
       "    <tr>\n",
       "      <th>17</th>\n",
       "      <td>Samsung Chromebook 4 (2021 Model) 11.6\" Intel ...</td>\n",
       "      <td>$119.98</td>\n",
       "      <td>4.3 out of 5 stars</td>\n",
       "    </tr>\n",
       "    <tr>\n",
       "      <th>18</th>\n",
       "      <td>Lenovo ThinkBook 15 Gen 4 15.6\" FHD Touchscree...</td>\n",
       "      <td>$1,029.98</td>\n",
       "      <td>4.2 out of 5 stars</td>\n",
       "    </tr>\n",
       "    <tr>\n",
       "      <th>19</th>\n",
       "      <td>HP 2022 Stream 14\" HD Laptop, Intel Celeron N4...</td>\n",
       "      <td>$289.00</td>\n",
       "      <td>4.2 out of 5 stars</td>\n",
       "    </tr>\n",
       "  </tbody>\n",
       "</table>\n",
       "</div>"
      ],
      "text/plain": [
       "                                                 Nome      Preco  \\\n",
       "0   Lenovo IdeaPad 15.6\" Laptop Newest, 15.6 Inch ...    $399.98   \n",
       "1   Lenovo IdeaPad 15.6\" Laptop Newest, 15.6 Inch ...    $399.98   \n",
       "2   Lenovo IdeaPad 15.6\" Laptop Newest, 15.6 Inch ...    $399.98   \n",
       "3   ASUS VivoBook 15 F515 Thin and Light Laptop, 1...    $499.99   \n",
       "4                                             no-info    no-info   \n",
       "5   Lenovo IdeaPad 15.6\" Laptop Newest, 15.6 Inch ...    $399.98   \n",
       "6   Lenovo 15.6\" IdeaPad 1 Laptop, AMD Dual-core P...    $399.00   \n",
       "7   Lenovo 2022 Newest Ideapad 3 Laptop, 15.6\" HD ...    $383.00   \n",
       "8   HP 2021 Stream 14\" HD SVA Laptop Computer, Int...    $289.00   \n",
       "9   Lenovo Newest IdeaPad 1i 14\" HD Laptop, 4GB RA...    $228.95   \n",
       "10  Lenovo ThinkBook 15 Premium Business Laptop, A...    $648.99   \n",
       "11  ASUS VivoBook 15 F515 Thin and Light Laptop, 1...    $499.99   \n",
       "12  Gateway Newest Touchscreen 11.6 HD 2-in-1 Conv...    $138.00   \n",
       "13  Dell 2022 Newest Inspiron 15 3511 Laptop, 15.6...    $596.00   \n",
       "14  Lenovo IdeaPad 15.6\" Laptop Newest, 15.6 Inch ...    $399.98   \n",
       "15  Dell Newest Inspiron 15 3511 Laptop, 15.6\" FHD...    $521.00   \n",
       "16  Acer 2023 Newest Aspire 5 15.6\" FHD IPS Slim L...    $499.00   \n",
       "17  Samsung Chromebook 4 (2021 Model) 11.6\" Intel ...    $119.98   \n",
       "18  Lenovo ThinkBook 15 Gen 4 15.6\" FHD Touchscree...  $1,029.98   \n",
       "19  HP 2022 Stream 14\" HD Laptop, Intel Celeron N4...    $289.00   \n",
       "\n",
       "             Avaliacao  \n",
       "0   4.3 out of 5 stars  \n",
       "1   4.3 out of 5 stars  \n",
       "2   4.3 out of 5 stars  \n",
       "3   4.3 out of 5 stars  \n",
       "4              no-info  \n",
       "5   4.3 out of 5 stars  \n",
       "6   4.2 out of 5 stars  \n",
       "7   4.4 out of 5 stars  \n",
       "8   4.2 out of 5 stars  \n",
       "9   4.4 out of 5 stars  \n",
       "10  4.7 out of 5 stars  \n",
       "11  4.3 out of 5 stars  \n",
       "12  3.9 out of 5 stars  \n",
       "13  4.3 out of 5 stars  \n",
       "14  4.3 out of 5 stars  \n",
       "15  4.1 out of 5 stars  \n",
       "16  4.3 out of 5 stars  \n",
       "17  4.3 out of 5 stars  \n",
       "18  4.2 out of 5 stars  \n",
       "19  4.2 out of 5 stars  "
      ]
     },
     "execution_count": 75,
     "metadata": {},
     "output_type": "execute_result"
    }
   ],
   "source": [
    "df_dados_notebooks.head(20)"
   ]
  },
  {
   "attachments": {},
   "cell_type": "markdown",
   "metadata": {},
   "source": [
    "Mostra as Tipos de Dados do DataFrame"
   ]
  },
  {
   "cell_type": "code",
   "execution_count": 76,
   "metadata": {},
   "outputs": [
    {
     "data": {
      "text/plain": [
       "Nome         object\n",
       "Preco        object\n",
       "Avaliacao    object\n",
       "dtype: object"
      ]
     },
     "execution_count": 76,
     "metadata": {},
     "output_type": "execute_result"
    }
   ],
   "source": [
    "# Visualizando os tipos de dados\n",
    "df_dados_notebooks.dtypes"
   ]
  },
  {
   "cell_type": "markdown",
   "metadata": {},
   "source": [
    "Perfeito. Agora precisamos limpar os dados. Vamos à faxina."
   ]
  },
  {
   "attachments": {},
   "cell_type": "markdown",
   "metadata": {},
   "source": [
    "## Limpeza da Coluna de Preços\n",
    "\n",
    "Começaremos a limpeza pela coluna de preços."
   ]
  },
  {
   "attachments": {},
   "cell_type": "markdown",
   "metadata": {},
   "source": [
    "Mostra Total de Registros Por Preço"
   ]
  },
  {
   "cell_type": "code",
   "execution_count": 77,
   "metadata": {},
   "outputs": [
    {
     "data": {
      "text/plain": [
       "no-info    21\n",
       "$399.00    17\n",
       "$399.98    15\n",
       "$499.99    13\n",
       "$185.99    10\n",
       "           ..\n",
       "$639.00     1\n",
       "$229.00     1\n",
       "$289.95     1\n",
       "$439.99     1\n",
       "$729.00     1\n",
       "Name: Preco, Length: 113, dtype: int64"
      ]
     },
     "execution_count": 77,
     "metadata": {},
     "output_type": "execute_result"
    }
   ],
   "source": [
    "df_dados_notebooks['Preco'].value_counts(dropna = False)"
   ]
  },
  {
   "attachments": {},
   "cell_type": "markdown",
   "metadata": {},
   "source": [
    "Percebemos que temos Registros sem preço!"
   ]
  },
  {
   "cell_type": "code",
   "execution_count": 78,
   "metadata": {},
   "outputs": [
    {
     "data": {
      "text/plain": [
       "21"
      ]
     },
     "execution_count": 78,
     "metadata": {},
     "output_type": "execute_result"
    }
   ],
   "source": [
    "df_dados_notebooks[df_dados_notebooks['Preco'] == 'no-info'].count()[0]"
   ]
  },
  {
   "attachments": {},
   "cell_type": "markdown",
   "metadata": {},
   "source": [
    "Como temos vários registros com preço = no_info, isto é, sem preço, vamos remover estes!"
   ]
  },
  {
   "cell_type": "code",
   "execution_count": 79,
   "metadata": {},
   "outputs": [],
   "source": [
    "df_dados_notebooks = df_dados_notebooks[df_dados_notebooks['Preco'] != 'no-info']"
   ]
  },
  {
   "attachments": {},
   "cell_type": "markdown",
   "metadata": {},
   "source": [
    "Agora não devemos ter mais registros sem preço!"
   ]
  },
  {
   "cell_type": "code",
   "execution_count": 80,
   "metadata": {},
   "outputs": [
    {
     "data": {
      "text/plain": [
       "$399.00    17\n",
       "$399.98    15\n",
       "$499.99    13\n",
       "$185.99    10\n",
       "$599.00     8\n",
       "           ..\n",
       "$639.00     1\n",
       "$229.00     1\n",
       "$289.95     1\n",
       "$439.99     1\n",
       "$729.00     1\n",
       "Name: Preco, Length: 112, dtype: int64"
      ]
     },
     "execution_count": 80,
     "metadata": {},
     "output_type": "execute_result"
    }
   ],
   "source": [
    "df_dados_notebooks['Preco'].value_counts(dropna = False)"
   ]
  },
  {
   "attachments": {},
   "cell_type": "markdown",
   "metadata": {},
   "source": [
    "## Função Limpeza do Valor do Preço\n",
    "#### Existe símbolos ($) e Vírgulas. Necessário retirá-los e vamos mater os pontos decimais!"
   ]
  },
  {
   "cell_type": "code",
   "execution_count": 81,
   "metadata": {},
   "outputs": [],
   "source": [
    "# Função para limpeza da coluna de preço\n",
    "def limpa_preco(price):\n",
    "    \n",
    "    # Remove o '$'\n",
    "    price = price.replace('$', '')  \n",
    "    \n",
    "    # Remove a ',' \n",
    "    price = price.replace(',', '') \n",
    "    \n",
    "    # Converte o tipo de dado para numérico\n",
    "    price = pd.to_numeric(price)   \n",
    "    \n",
    "    # Arredonda os valores\n",
    "    price = price.round()   \n",
    "    \n",
    "    return price"
   ]
  },
  {
   "attachments": {},
   "cell_type": "markdown",
   "metadata": {},
   "source": [
    "## Vamos aplicar a Função limpa_preco utilizando a Instrução Apply\n",
    "### É aplicado a função criando uma nova coluna chamada Preco_Final com o Preço Limpo!"
   ]
  },
  {
   "cell_type": "code",
   "execution_count": 82,
   "metadata": {},
   "outputs": [],
   "source": [
    "df_dados_notebooks['Preco_Final'] = df_dados_notebooks['Preco'].apply(limpa_preco)"
   ]
  },
  {
   "cell_type": "code",
   "execution_count": 83,
   "metadata": {},
   "outputs": [
    {
     "data": {
      "text/plain": [
       "0      400.0\n",
       "1      400.0\n",
       "2      400.0\n",
       "3      500.0\n",
       "5      400.0\n",
       "       ...  \n",
       "252    619.0\n",
       "253    679.0\n",
       "254    729.0\n",
       "255    430.0\n",
       "256    599.0\n",
       "Name: Preco_Final, Length: 236, dtype: float64"
      ]
     },
     "execution_count": 83,
     "metadata": {},
     "output_type": "execute_result"
    }
   ],
   "source": [
    "df_dados_notebooks['Preco_Final']"
   ]
  },
  {
   "attachments": {},
   "cell_type": "markdown",
   "metadata": {},
   "source": [
    "## Vamos remover os registros com preços menores que 150, pois devem ser acessórios\n"
   ]
  },
  {
   "cell_type": "code",
   "execution_count": 84,
   "metadata": {},
   "outputs": [],
   "source": [
    "df_dados_notebooks = df_dados_notebooks[df_dados_notebooks['Preco_Final'] >= 150]"
   ]
  },
  {
   "attachments": {},
   "cell_type": "markdown",
   "metadata": {},
   "source": [
    "Vamos mostrar Nº de linhas e colunas atuais"
   ]
  },
  {
   "cell_type": "code",
   "execution_count": 85,
   "metadata": {},
   "outputs": [
    {
     "data": {
      "text/plain": [
       "(231, 4)"
      ]
     },
     "execution_count": 85,
     "metadata": {},
     "output_type": "execute_result"
    }
   ],
   "source": [
    "df_dados_notebooks.shape"
   ]
  },
  {
   "attachments": {},
   "cell_type": "markdown",
   "metadata": {},
   "source": [
    "Vamos mostrar as 10 primeiras linhas"
   ]
  },
  {
   "cell_type": "code",
   "execution_count": 86,
   "metadata": {},
   "outputs": [
    {
     "data": {
      "text/html": [
       "<div>\n",
       "<style scoped>\n",
       "    .dataframe tbody tr th:only-of-type {\n",
       "        vertical-align: middle;\n",
       "    }\n",
       "\n",
       "    .dataframe tbody tr th {\n",
       "        vertical-align: top;\n",
       "    }\n",
       "\n",
       "    .dataframe thead th {\n",
       "        text-align: right;\n",
       "    }\n",
       "</style>\n",
       "<table border=\"1\" class=\"dataframe\">\n",
       "  <thead>\n",
       "    <tr style=\"text-align: right;\">\n",
       "      <th></th>\n",
       "      <th>Nome</th>\n",
       "      <th>Preco</th>\n",
       "      <th>Avaliacao</th>\n",
       "      <th>Preco_Final</th>\n",
       "    </tr>\n",
       "  </thead>\n",
       "  <tbody>\n",
       "    <tr>\n",
       "      <th>0</th>\n",
       "      <td>Lenovo IdeaPad 15.6\" Laptop Newest, 15.6 Inch ...</td>\n",
       "      <td>$399.98</td>\n",
       "      <td>4.3 out of 5 stars</td>\n",
       "      <td>400.0</td>\n",
       "    </tr>\n",
       "    <tr>\n",
       "      <th>1</th>\n",
       "      <td>Lenovo IdeaPad 15.6\" Laptop Newest, 15.6 Inch ...</td>\n",
       "      <td>$399.98</td>\n",
       "      <td>4.3 out of 5 stars</td>\n",
       "      <td>400.0</td>\n",
       "    </tr>\n",
       "    <tr>\n",
       "      <th>2</th>\n",
       "      <td>Lenovo IdeaPad 15.6\" Laptop Newest, 15.6 Inch ...</td>\n",
       "      <td>$399.98</td>\n",
       "      <td>4.3 out of 5 stars</td>\n",
       "      <td>400.0</td>\n",
       "    </tr>\n",
       "    <tr>\n",
       "      <th>3</th>\n",
       "      <td>ASUS VivoBook 15 F515 Thin and Light Laptop, 1...</td>\n",
       "      <td>$499.99</td>\n",
       "      <td>4.3 out of 5 stars</td>\n",
       "      <td>500.0</td>\n",
       "    </tr>\n",
       "    <tr>\n",
       "      <th>5</th>\n",
       "      <td>Lenovo IdeaPad 15.6\" Laptop Newest, 15.6 Inch ...</td>\n",
       "      <td>$399.98</td>\n",
       "      <td>4.3 out of 5 stars</td>\n",
       "      <td>400.0</td>\n",
       "    </tr>\n",
       "    <tr>\n",
       "      <th>6</th>\n",
       "      <td>Lenovo 15.6\" IdeaPad 1 Laptop, AMD Dual-core P...</td>\n",
       "      <td>$399.00</td>\n",
       "      <td>4.2 out of 5 stars</td>\n",
       "      <td>399.0</td>\n",
       "    </tr>\n",
       "    <tr>\n",
       "      <th>7</th>\n",
       "      <td>Lenovo 2022 Newest Ideapad 3 Laptop, 15.6\" HD ...</td>\n",
       "      <td>$383.00</td>\n",
       "      <td>4.4 out of 5 stars</td>\n",
       "      <td>383.0</td>\n",
       "    </tr>\n",
       "    <tr>\n",
       "      <th>8</th>\n",
       "      <td>HP 2021 Stream 14\" HD SVA Laptop Computer, Int...</td>\n",
       "      <td>$289.00</td>\n",
       "      <td>4.2 out of 5 stars</td>\n",
       "      <td>289.0</td>\n",
       "    </tr>\n",
       "    <tr>\n",
       "      <th>9</th>\n",
       "      <td>Lenovo Newest IdeaPad 1i 14\" HD Laptop, 4GB RA...</td>\n",
       "      <td>$228.95</td>\n",
       "      <td>4.4 out of 5 stars</td>\n",
       "      <td>229.0</td>\n",
       "    </tr>\n",
       "    <tr>\n",
       "      <th>10</th>\n",
       "      <td>Lenovo ThinkBook 15 Premium Business Laptop, A...</td>\n",
       "      <td>$648.99</td>\n",
       "      <td>4.7 out of 5 stars</td>\n",
       "      <td>649.0</td>\n",
       "    </tr>\n",
       "    <tr>\n",
       "      <th>11</th>\n",
       "      <td>ASUS VivoBook 15 F515 Thin and Light Laptop, 1...</td>\n",
       "      <td>$499.99</td>\n",
       "      <td>4.3 out of 5 stars</td>\n",
       "      <td>500.0</td>\n",
       "    </tr>\n",
       "    <tr>\n",
       "      <th>13</th>\n",
       "      <td>Dell 2022 Newest Inspiron 15 3511 Laptop, 15.6...</td>\n",
       "      <td>$596.00</td>\n",
       "      <td>4.3 out of 5 stars</td>\n",
       "      <td>596.0</td>\n",
       "    </tr>\n",
       "    <tr>\n",
       "      <th>14</th>\n",
       "      <td>Lenovo IdeaPad 15.6\" Laptop Newest, 15.6 Inch ...</td>\n",
       "      <td>$399.98</td>\n",
       "      <td>4.3 out of 5 stars</td>\n",
       "      <td>400.0</td>\n",
       "    </tr>\n",
       "    <tr>\n",
       "      <th>15</th>\n",
       "      <td>Dell Newest Inspiron 15 3511 Laptop, 15.6\" FHD...</td>\n",
       "      <td>$521.00</td>\n",
       "      <td>4.1 out of 5 stars</td>\n",
       "      <td>521.0</td>\n",
       "    </tr>\n",
       "    <tr>\n",
       "      <th>16</th>\n",
       "      <td>Acer 2023 Newest Aspire 5 15.6\" FHD IPS Slim L...</td>\n",
       "      <td>$499.00</td>\n",
       "      <td>4.3 out of 5 stars</td>\n",
       "      <td>499.0</td>\n",
       "    </tr>\n",
       "    <tr>\n",
       "      <th>18</th>\n",
       "      <td>Lenovo ThinkBook 15 Gen 4 15.6\" FHD Touchscree...</td>\n",
       "      <td>$1,029.98</td>\n",
       "      <td>4.2 out of 5 stars</td>\n",
       "      <td>1030.0</td>\n",
       "    </tr>\n",
       "    <tr>\n",
       "      <th>19</th>\n",
       "      <td>HP 2022 Stream 14\" HD Laptop, Intel Celeron N4...</td>\n",
       "      <td>$289.00</td>\n",
       "      <td>4.2 out of 5 stars</td>\n",
       "      <td>289.0</td>\n",
       "    </tr>\n",
       "    <tr>\n",
       "      <th>20</th>\n",
       "      <td>HP Stream Laptop, 14\" HD Display, Intel Celero...</td>\n",
       "      <td>$279.00</td>\n",
       "      <td>5.0 out of 5 stars</td>\n",
       "      <td>279.0</td>\n",
       "    </tr>\n",
       "    <tr>\n",
       "      <th>21</th>\n",
       "      <td>Lenovo 14\" Laptop, IdeaPad 1, Intel Quad-core ...</td>\n",
       "      <td>$219.00</td>\n",
       "      <td>3.8 out of 5 stars</td>\n",
       "      <td>219.0</td>\n",
       "    </tr>\n",
       "    <tr>\n",
       "      <th>22</th>\n",
       "      <td>Acer Aspire 5 A515-45-R74Z Slim Laptop | 15.6\"...</td>\n",
       "      <td>$399.99</td>\n",
       "      <td>4.5 out of 5 stars</td>\n",
       "      <td>400.0</td>\n",
       "    </tr>\n",
       "  </tbody>\n",
       "</table>\n",
       "</div>"
      ],
      "text/plain": [
       "                                                 Nome      Preco  \\\n",
       "0   Lenovo IdeaPad 15.6\" Laptop Newest, 15.6 Inch ...    $399.98   \n",
       "1   Lenovo IdeaPad 15.6\" Laptop Newest, 15.6 Inch ...    $399.98   \n",
       "2   Lenovo IdeaPad 15.6\" Laptop Newest, 15.6 Inch ...    $399.98   \n",
       "3   ASUS VivoBook 15 F515 Thin and Light Laptop, 1...    $499.99   \n",
       "5   Lenovo IdeaPad 15.6\" Laptop Newest, 15.6 Inch ...    $399.98   \n",
       "6   Lenovo 15.6\" IdeaPad 1 Laptop, AMD Dual-core P...    $399.00   \n",
       "7   Lenovo 2022 Newest Ideapad 3 Laptop, 15.6\" HD ...    $383.00   \n",
       "8   HP 2021 Stream 14\" HD SVA Laptop Computer, Int...    $289.00   \n",
       "9   Lenovo Newest IdeaPad 1i 14\" HD Laptop, 4GB RA...    $228.95   \n",
       "10  Lenovo ThinkBook 15 Premium Business Laptop, A...    $648.99   \n",
       "11  ASUS VivoBook 15 F515 Thin and Light Laptop, 1...    $499.99   \n",
       "13  Dell 2022 Newest Inspiron 15 3511 Laptop, 15.6...    $596.00   \n",
       "14  Lenovo IdeaPad 15.6\" Laptop Newest, 15.6 Inch ...    $399.98   \n",
       "15  Dell Newest Inspiron 15 3511 Laptop, 15.6\" FHD...    $521.00   \n",
       "16  Acer 2023 Newest Aspire 5 15.6\" FHD IPS Slim L...    $499.00   \n",
       "18  Lenovo ThinkBook 15 Gen 4 15.6\" FHD Touchscree...  $1,029.98   \n",
       "19  HP 2022 Stream 14\" HD Laptop, Intel Celeron N4...    $289.00   \n",
       "20  HP Stream Laptop, 14\" HD Display, Intel Celero...    $279.00   \n",
       "21  Lenovo 14\" Laptop, IdeaPad 1, Intel Quad-core ...    $219.00   \n",
       "22  Acer Aspire 5 A515-45-R74Z Slim Laptop | 15.6\"...    $399.99   \n",
       "\n",
       "             Avaliacao  Preco_Final  \n",
       "0   4.3 out of 5 stars        400.0  \n",
       "1   4.3 out of 5 stars        400.0  \n",
       "2   4.3 out of 5 stars        400.0  \n",
       "3   4.3 out of 5 stars        500.0  \n",
       "5   4.3 out of 5 stars        400.0  \n",
       "6   4.2 out of 5 stars        399.0  \n",
       "7   4.4 out of 5 stars        383.0  \n",
       "8   4.2 out of 5 stars        289.0  \n",
       "9   4.4 out of 5 stars        229.0  \n",
       "10  4.7 out of 5 stars        649.0  \n",
       "11  4.3 out of 5 stars        500.0  \n",
       "13  4.3 out of 5 stars        596.0  \n",
       "14  4.3 out of 5 stars        400.0  \n",
       "15  4.1 out of 5 stars        521.0  \n",
       "16  4.3 out of 5 stars        499.0  \n",
       "18  4.2 out of 5 stars       1030.0  \n",
       "19  4.2 out of 5 stars        289.0  \n",
       "20  5.0 out of 5 stars        279.0  \n",
       "21  3.8 out of 5 stars        219.0  \n",
       "22  4.5 out of 5 stars        400.0  "
      ]
     },
     "execution_count": 86,
     "metadata": {},
     "output_type": "execute_result"
    }
   ],
   "source": [
    "df_dados_notebooks.head(20)"
   ]
  },
  {
   "attachments": {},
   "cell_type": "markdown",
   "metadata": {},
   "source": [
    "Não precisamos mais da coluna antiga. Vamos removê-la"
   ]
  },
  {
   "cell_type": "code",
   "execution_count": 87,
   "metadata": {},
   "outputs": [],
   "source": [
    "df_dados_notebooks.drop('Preco', axis = 1, inplace = True)"
   ]
  },
  {
   "attachments": {},
   "cell_type": "markdown",
   "metadata": {},
   "source": [
    "Vamos mostrar as 3 primeiras linhas"
   ]
  },
  {
   "cell_type": "code",
   "execution_count": 88,
   "metadata": {},
   "outputs": [
    {
     "data": {
      "text/html": [
       "<div>\n",
       "<style scoped>\n",
       "    .dataframe tbody tr th:only-of-type {\n",
       "        vertical-align: middle;\n",
       "    }\n",
       "\n",
       "    .dataframe tbody tr th {\n",
       "        vertical-align: top;\n",
       "    }\n",
       "\n",
       "    .dataframe thead th {\n",
       "        text-align: right;\n",
       "    }\n",
       "</style>\n",
       "<table border=\"1\" class=\"dataframe\">\n",
       "  <thead>\n",
       "    <tr style=\"text-align: right;\">\n",
       "      <th></th>\n",
       "      <th>Nome</th>\n",
       "      <th>Avaliacao</th>\n",
       "      <th>Preco_Final</th>\n",
       "    </tr>\n",
       "  </thead>\n",
       "  <tbody>\n",
       "    <tr>\n",
       "      <th>0</th>\n",
       "      <td>Lenovo IdeaPad 15.6\" Laptop Newest, 15.6 Inch ...</td>\n",
       "      <td>4.3 out of 5 stars</td>\n",
       "      <td>400.0</td>\n",
       "    </tr>\n",
       "    <tr>\n",
       "      <th>1</th>\n",
       "      <td>Lenovo IdeaPad 15.6\" Laptop Newest, 15.6 Inch ...</td>\n",
       "      <td>4.3 out of 5 stars</td>\n",
       "      <td>400.0</td>\n",
       "    </tr>\n",
       "    <tr>\n",
       "      <th>2</th>\n",
       "      <td>Lenovo IdeaPad 15.6\" Laptop Newest, 15.6 Inch ...</td>\n",
       "      <td>4.3 out of 5 stars</td>\n",
       "      <td>400.0</td>\n",
       "    </tr>\n",
       "  </tbody>\n",
       "</table>\n",
       "</div>"
      ],
      "text/plain": [
       "                                                Nome           Avaliacao  \\\n",
       "0  Lenovo IdeaPad 15.6\" Laptop Newest, 15.6 Inch ...  4.3 out of 5 stars   \n",
       "1  Lenovo IdeaPad 15.6\" Laptop Newest, 15.6 Inch ...  4.3 out of 5 stars   \n",
       "2  Lenovo IdeaPad 15.6\" Laptop Newest, 15.6 Inch ...  4.3 out of 5 stars   \n",
       "\n",
       "   Preco_Final  \n",
       "0        400.0  \n",
       "1        400.0  \n",
       "2        400.0  "
      ]
     },
     "execution_count": 88,
     "metadata": {},
     "output_type": "execute_result"
    }
   ],
   "source": [
    "# Visualiza os dados\n",
    "df_dados_notebooks.head(3)"
   ]
  },
  {
   "attachments": {},
   "cell_type": "markdown",
   "metadata": {},
   "source": [
    "## Limpeza da Coluna de Avaliações\n",
    "\n",
    "A coluna de avaliações possui valores como **3.8 out of 5 stars**, então vamos retirar o final depois da pontuação em sim."
   ]
  },
  {
   "cell_type": "code",
   "execution_count": 89,
   "metadata": {},
   "outputs": [
    {
     "data": {
      "text/plain": [
       "4.3 out of 5 stars    60\n",
       "4.2 out of 5 stars    49\n",
       "4.4 out of 5 stars    37\n",
       "4.6 out of 5 stars    19\n",
       "5.0 out of 5 stars    13\n",
       "4.0 out of 5 stars    12\n",
       "4.5 out of 5 stars    11\n",
       "4.1 out of 5 stars     7\n",
       "4.7 out of 5 stars     7\n",
       "3.7 out of 5 stars     4\n",
       "no-info                3\n",
       "3.8 out of 5 stars     2\n",
       "3.0 out of 5 stars     2\n",
       "3.9 out of 5 stars     2\n",
       "3.3 out of 5 stars     1\n",
       "4.8 out of 5 stars     1\n",
       "1.0 out of 5 stars     1\n",
       "Name: Avaliacao, dtype: int64"
      ]
     },
     "execution_count": 89,
     "metadata": {},
     "output_type": "execute_result"
    }
   ],
   "source": [
    "# Número de elementos por tipo de avaliação\n",
    "df_dados_notebooks['Avaliacao'].value_counts(dropna = False)"
   ]
  },
  {
   "attachments": {},
   "cell_type": "markdown",
   "metadata": {},
   "source": [
    "## Função Limpeza da Avaliação\n",
    "### Onde houver a texto **no-info**, colocaremos 0 como valor"
   ]
  },
  {
   "cell_type": "code",
   "execution_count": 90,
   "metadata": {},
   "outputs": [],
   "source": [
    "# Função para limpar as avaliações e remover no-info\n",
    "def limpa_aval(aval):\n",
    "    \n",
    "    # Divide a avaliação por espaços\n",
    "    aval = aval.split()\n",
    "    \n",
    "    # Extraímos a primeira coluna (de índice zero)\n",
    "    aval = aval[0]\n",
    "    \n",
    "    # Verificamos o valor \n",
    "    if aval == 'no-info':\n",
    "        aval = 0\n",
    "        \n",
    "    # Convertemos para o tipo inteiro    \n",
    "    aval = pd.to_numeric(aval) \n",
    "    \n",
    "    return aval"
   ]
  },
  {
   "attachments": {},
   "cell_type": "markdown",
   "metadata": {},
   "source": [
    "## Vamos aplicar a Função limpa_aval utilizando a Instrução Apply\n",
    "### É aplicado a função criando uma nova coluna chamada Avaliacao_Final"
   ]
  },
  {
   "cell_type": "code",
   "execution_count": 91,
   "metadata": {},
   "outputs": [],
   "source": [
    "# Criamos uma nova coluna com o valor processado\n",
    "df_dados_notebooks['Avaliacao_Final'] = df_dados_notebooks['Avaliacao'].apply(limpa_aval)"
   ]
  },
  {
   "cell_type": "code",
   "execution_count": 92,
   "metadata": {},
   "outputs": [
    {
     "data": {
      "text/plain": [
       "(231, 4)"
      ]
     },
     "execution_count": 92,
     "metadata": {},
     "output_type": "execute_result"
    }
   ],
   "source": [
    "# Shape\n",
    "df_dados_notebooks.shape"
   ]
  },
  {
   "cell_type": "code",
   "execution_count": 93,
   "metadata": {},
   "outputs": [
    {
     "data": {
      "text/html": [
       "<div>\n",
       "<style scoped>\n",
       "    .dataframe tbody tr th:only-of-type {\n",
       "        vertical-align: middle;\n",
       "    }\n",
       "\n",
       "    .dataframe tbody tr th {\n",
       "        vertical-align: top;\n",
       "    }\n",
       "\n",
       "    .dataframe thead th {\n",
       "        text-align: right;\n",
       "    }\n",
       "</style>\n",
       "<table border=\"1\" class=\"dataframe\">\n",
       "  <thead>\n",
       "    <tr style=\"text-align: right;\">\n",
       "      <th></th>\n",
       "      <th>Nome</th>\n",
       "      <th>Avaliacao</th>\n",
       "      <th>Preco_Final</th>\n",
       "      <th>Avaliacao_Final</th>\n",
       "    </tr>\n",
       "  </thead>\n",
       "  <tbody>\n",
       "    <tr>\n",
       "      <th>0</th>\n",
       "      <td>Lenovo IdeaPad 15.6\" Laptop Newest, 15.6 Inch ...</td>\n",
       "      <td>4.3 out of 5 stars</td>\n",
       "      <td>400.0</td>\n",
       "      <td>4.3</td>\n",
       "    </tr>\n",
       "    <tr>\n",
       "      <th>1</th>\n",
       "      <td>Lenovo IdeaPad 15.6\" Laptop Newest, 15.6 Inch ...</td>\n",
       "      <td>4.3 out of 5 stars</td>\n",
       "      <td>400.0</td>\n",
       "      <td>4.3</td>\n",
       "    </tr>\n",
       "    <tr>\n",
       "      <th>2</th>\n",
       "      <td>Lenovo IdeaPad 15.6\" Laptop Newest, 15.6 Inch ...</td>\n",
       "      <td>4.3 out of 5 stars</td>\n",
       "      <td>400.0</td>\n",
       "      <td>4.3</td>\n",
       "    </tr>\n",
       "    <tr>\n",
       "      <th>3</th>\n",
       "      <td>ASUS VivoBook 15 F515 Thin and Light Laptop, 1...</td>\n",
       "      <td>4.3 out of 5 stars</td>\n",
       "      <td>500.0</td>\n",
       "      <td>4.3</td>\n",
       "    </tr>\n",
       "    <tr>\n",
       "      <th>5</th>\n",
       "      <td>Lenovo IdeaPad 15.6\" Laptop Newest, 15.6 Inch ...</td>\n",
       "      <td>4.3 out of 5 stars</td>\n",
       "      <td>400.0</td>\n",
       "      <td>4.3</td>\n",
       "    </tr>\n",
       "    <tr>\n",
       "      <th>6</th>\n",
       "      <td>Lenovo 15.6\" IdeaPad 1 Laptop, AMD Dual-core P...</td>\n",
       "      <td>4.2 out of 5 stars</td>\n",
       "      <td>399.0</td>\n",
       "      <td>4.2</td>\n",
       "    </tr>\n",
       "    <tr>\n",
       "      <th>7</th>\n",
       "      <td>Lenovo 2022 Newest Ideapad 3 Laptop, 15.6\" HD ...</td>\n",
       "      <td>4.4 out of 5 stars</td>\n",
       "      <td>383.0</td>\n",
       "      <td>4.4</td>\n",
       "    </tr>\n",
       "    <tr>\n",
       "      <th>8</th>\n",
       "      <td>HP 2021 Stream 14\" HD SVA Laptop Computer, Int...</td>\n",
       "      <td>4.2 out of 5 stars</td>\n",
       "      <td>289.0</td>\n",
       "      <td>4.2</td>\n",
       "    </tr>\n",
       "    <tr>\n",
       "      <th>9</th>\n",
       "      <td>Lenovo Newest IdeaPad 1i 14\" HD Laptop, 4GB RA...</td>\n",
       "      <td>4.4 out of 5 stars</td>\n",
       "      <td>229.0</td>\n",
       "      <td>4.4</td>\n",
       "    </tr>\n",
       "    <tr>\n",
       "      <th>10</th>\n",
       "      <td>Lenovo ThinkBook 15 Premium Business Laptop, A...</td>\n",
       "      <td>4.7 out of 5 stars</td>\n",
       "      <td>649.0</td>\n",
       "      <td>4.7</td>\n",
       "    </tr>\n",
       "  </tbody>\n",
       "</table>\n",
       "</div>"
      ],
      "text/plain": [
       "                                                 Nome           Avaliacao  \\\n",
       "0   Lenovo IdeaPad 15.6\" Laptop Newest, 15.6 Inch ...  4.3 out of 5 stars   \n",
       "1   Lenovo IdeaPad 15.6\" Laptop Newest, 15.6 Inch ...  4.3 out of 5 stars   \n",
       "2   Lenovo IdeaPad 15.6\" Laptop Newest, 15.6 Inch ...  4.3 out of 5 stars   \n",
       "3   ASUS VivoBook 15 F515 Thin and Light Laptop, 1...  4.3 out of 5 stars   \n",
       "5   Lenovo IdeaPad 15.6\" Laptop Newest, 15.6 Inch ...  4.3 out of 5 stars   \n",
       "6   Lenovo 15.6\" IdeaPad 1 Laptop, AMD Dual-core P...  4.2 out of 5 stars   \n",
       "7   Lenovo 2022 Newest Ideapad 3 Laptop, 15.6\" HD ...  4.4 out of 5 stars   \n",
       "8   HP 2021 Stream 14\" HD SVA Laptop Computer, Int...  4.2 out of 5 stars   \n",
       "9   Lenovo Newest IdeaPad 1i 14\" HD Laptop, 4GB RA...  4.4 out of 5 stars   \n",
       "10  Lenovo ThinkBook 15 Premium Business Laptop, A...  4.7 out of 5 stars   \n",
       "\n",
       "    Preco_Final  Avaliacao_Final  \n",
       "0         400.0              4.3  \n",
       "1         400.0              4.3  \n",
       "2         400.0              4.3  \n",
       "3         500.0              4.3  \n",
       "5         400.0              4.3  \n",
       "6         399.0              4.2  \n",
       "7         383.0              4.4  \n",
       "8         289.0              4.2  \n",
       "9         229.0              4.4  \n",
       "10        649.0              4.7  "
      ]
     },
     "execution_count": 93,
     "metadata": {},
     "output_type": "execute_result"
    }
   ],
   "source": [
    "# Visualiza os dados\n",
    "df_dados_notebooks.head(10)"
   ]
  },
  {
   "cell_type": "code",
   "execution_count": 94,
   "metadata": {},
   "outputs": [],
   "source": [
    "# Não precisamos mais da coluna antiga. Vamos removê-la\n",
    "df_dados_notebooks.drop('Avaliacao', axis = 1, inplace = True)"
   ]
  },
  {
   "cell_type": "code",
   "execution_count": 95,
   "metadata": {},
   "outputs": [
    {
     "data": {
      "text/html": [
       "<div>\n",
       "<style scoped>\n",
       "    .dataframe tbody tr th:only-of-type {\n",
       "        vertical-align: middle;\n",
       "    }\n",
       "\n",
       "    .dataframe tbody tr th {\n",
       "        vertical-align: top;\n",
       "    }\n",
       "\n",
       "    .dataframe thead th {\n",
       "        text-align: right;\n",
       "    }\n",
       "</style>\n",
       "<table border=\"1\" class=\"dataframe\">\n",
       "  <thead>\n",
       "    <tr style=\"text-align: right;\">\n",
       "      <th></th>\n",
       "      <th>Nome</th>\n",
       "      <th>Preco_Final</th>\n",
       "      <th>Avaliacao_Final</th>\n",
       "    </tr>\n",
       "  </thead>\n",
       "  <tbody>\n",
       "    <tr>\n",
       "      <th>0</th>\n",
       "      <td>Lenovo IdeaPad 15.6\" Laptop Newest, 15.6 Inch ...</td>\n",
       "      <td>400.0</td>\n",
       "      <td>4.3</td>\n",
       "    </tr>\n",
       "    <tr>\n",
       "      <th>1</th>\n",
       "      <td>Lenovo IdeaPad 15.6\" Laptop Newest, 15.6 Inch ...</td>\n",
       "      <td>400.0</td>\n",
       "      <td>4.3</td>\n",
       "    </tr>\n",
       "    <tr>\n",
       "      <th>2</th>\n",
       "      <td>Lenovo IdeaPad 15.6\" Laptop Newest, 15.6 Inch ...</td>\n",
       "      <td>400.0</td>\n",
       "      <td>4.3</td>\n",
       "    </tr>\n",
       "  </tbody>\n",
       "</table>\n",
       "</div>"
      ],
      "text/plain": [
       "                                                Nome  Preco_Final  \\\n",
       "0  Lenovo IdeaPad 15.6\" Laptop Newest, 15.6 Inch ...        400.0   \n",
       "1  Lenovo IdeaPad 15.6\" Laptop Newest, 15.6 Inch ...        400.0   \n",
       "2  Lenovo IdeaPad 15.6\" Laptop Newest, 15.6 Inch ...        400.0   \n",
       "\n",
       "   Avaliacao_Final  \n",
       "0              4.3  \n",
       "1              4.3  \n",
       "2              4.3  "
      ]
     },
     "execution_count": 95,
     "metadata": {},
     "output_type": "execute_result"
    }
   ],
   "source": [
    "# Visualiza os dados\n",
    "df_dados_notebooks.head(3)"
   ]
  },
  {
   "cell_type": "markdown",
   "metadata": {},
   "source": [
    "## Limpeza da Coluna Nome\n",
    "\n",
    "A coluna de nome consiste em muitas informações sobre o produto, além de detalhes técnicos, como nome da marca, tamanho da tela, memória e assim por diante. Portanto, para fazer uma análise eficaz, precisamos extrair essas informações. Nosso próximo passo consiste nesse processo. Esta é a parte mais complicada deste Lab. Para extração, precisamos usar expressões regulares."
   ]
  },
  {
   "cell_type": "code",
   "execution_count": 96,
   "metadata": {},
   "outputs": [
    {
     "data": {
      "text/plain": [
       "0      Lenovo IdeaPad 15.6\" Laptop Newest, 15.6 Inch ...\n",
       "1      Lenovo IdeaPad 15.6\" Laptop Newest, 15.6 Inch ...\n",
       "2      Lenovo IdeaPad 15.6\" Laptop Newest, 15.6 Inch ...\n",
       "3      ASUS VivoBook 15 F515 Thin and Light Laptop, 1...\n",
       "5      Lenovo IdeaPad 15.6\" Laptop Newest, 15.6 Inch ...\n",
       "                             ...                        \n",
       "252    2022 HP 15.6 FHD Laptop Computer, 11th Gen Int...\n",
       "253    HP Pavilion Business Laptop, 15.6\" HD Touchscr...\n",
       "254    Lenovo IdeaPad 3 14\" FHD Laptop, 11th Gen Inte...\n",
       "255    2022 Acer Aspire 5 Slim Laptop, 15.6 inch FHD ...\n",
       "256    Lenovo New Ideapad 3 14inch FHD Portable Lapto...\n",
       "Name: Nome, Length: 231, dtype: object"
      ]
     },
     "execution_count": 96,
     "metadata": {},
     "output_type": "execute_result"
    }
   ],
   "source": [
    "# Vamos visualizar a coluna Nome\n",
    "df_dados_notebooks['Nome']"
   ]
  },
  {
   "cell_type": "markdown",
   "metadata": {},
   "source": [
    "Esses 3 pontinhos ao final indicam que a string é muito longa e por isso foi truncada pelo pandas. Mas somos resolvedores de problemas, pesquisamos na documentação Python e encontramos como resolver isso."
   ]
  },
  {
   "cell_type": "code",
   "execution_count": 97,
   "metadata": {},
   "outputs": [],
   "source": [
    "# Parâmetro para imprimir nomes completos\n",
    "pd.set_option('display.max_colwidth', None)"
   ]
  },
  {
   "cell_type": "code",
   "execution_count": 98,
   "metadata": {},
   "outputs": [],
   "source": [
    "pd.set_option('display.max_rows', None)"
   ]
  },
  {
   "cell_type": "code",
   "execution_count": 99,
   "metadata": {},
   "outputs": [
    {
     "data": {
      "text/plain": [
       "0                                   Lenovo IdeaPad 15.6\" Laptop Newest, 15.6 Inch HD Anti-Glare Display, AMD Dual-core Processor, 20GB RAM 1TB SSD, WiFi6 Bluetooth5, 9.5Hr Battery, Windows 11 +GM Accessories\n",
       "1                                   Lenovo IdeaPad 15.6\" Laptop Newest, 15.6 Inch HD Anti-Glare Display, AMD Dual-core Processor, 20GB RAM 1TB SSD, WiFi6 Bluetooth5, 9.5Hr Battery, Windows 11 +GM Accessories\n",
       "2                                   Lenovo IdeaPad 15.6\" Laptop Newest, 15.6 Inch HD Anti-Glare Display, AMD Dual-core Processor, 20GB RAM 1TB SSD, WiFi6 Bluetooth5, 9.5Hr Battery, Windows 11 +GM Accessories\n",
       "3                        ASUS VivoBook 15 F515 Thin and Light Laptop, 15.6” FHD Display, Intel Core i3-1005G1 Processor, Fingerprint Reader, Backlit Keyboard, Windows 10 Home, Slate Grey (20GB RAM | 1TB SSD)\n",
       "5                                   Lenovo IdeaPad 15.6\" Laptop Newest, 15.6 Inch HD Anti-Glare Display, AMD Dual-core Processor, 20GB RAM 1TB SSD, WiFi6 Bluetooth5, 9.5Hr Battery, Windows 11 +GM Accessories\n",
       "6                                           Lenovo 15.6\" IdeaPad 1 Laptop, AMD Dual-core Processor, 15.6\" HD Anti-Glare Display, Wi-Fi 6 and Bluetooth 5.0, HDMI, Windows 11 Home in S Mode(20GB RAM | 1TB SSD)\n",
       "7              Lenovo 2022 Newest Ideapad 3 Laptop, 15.6\" HD Touchscreen, 11th Gen Intel Core i3-1115G4 Processor, 8GB DDR4 RAM, 256GB PCIe NVMe SSD, HDMI, Webcam, Wi-Fi 5, Bluetooth, Windows 11 Home, Almond\n",
       "8          HP 2021 Stream 14\" HD SVA Laptop Computer, Intel Celeron N4000 Processor, 4GB RAM, 64GB eMMC Flash Memory, Webcam, 1-Year Office, Intel UHD Graphics 600, Win 10S, Rose Pink, 32GB SnowBell USB Card\n",
       "9       Lenovo Newest IdeaPad 1i 14\" HD Laptop, 4GB RAM, 256GB Storage, Intel Pentium N5030 Processor, 10Hrs Battery Life, Rapid Charge, Home&Education Laptop, HDMI, Type-C, Windows 11S, 1 Year Microsoft 365\n",
       "10        Lenovo ThinkBook 15 Premium Business Laptop, AMD Ryzen 5 5500U Processor (6 Cores, 4.0GHz), 15.6\" FHD IPS Anti-Glare Display, 20GB RAM, 1TB SSD, Backlit Keyboard, Fingerprint Reader, Windows 11 Pro\n",
       "11                       ASUS VivoBook 15 F515 Thin and Light Laptop, 15.6” FHD Display, Intel Core i3-1005G1 Processor, Fingerprint Reader, Backlit Keyboard, Windows 10 Home, Slate Grey (20GB RAM | 1TB SSD)\n",
       "13                           Dell 2022 Newest Inspiron 15 3511 Laptop, 15.6\" FHD Touchscreen, Intel Core i5-1035G1, 32GB RAM, 1TB PCIe NVMe M.2 SSD, SD Card Reader, Webcam, HDMI, WiFi, Windows 11 Home, Black\n",
       "14                                  Lenovo IdeaPad 15.6\" Laptop Newest, 15.6 Inch HD Anti-Glare Display, AMD Dual-core Processor, 20GB RAM 1TB SSD, WiFi6 Bluetooth5, 9.5Hr Battery, Windows 11 +GM Accessories\n",
       "15                              Dell Newest Inspiron 15 3511 Laptop, 15.6\" FHD Touchscreen, Intel Core i5-1035G1, 16GB RAM, 512GB PCIe NVMe M.2 SSD, SD Card Reader, Webcam, HDMI, WiFi, Windows 11 Home, Black\n",
       "16                    Acer 2023 Newest Aspire 5 15.6\" FHD IPS Slim Laptop, Intel Core i3-1115G4(Up to 4.1GHz), 20GB RAM, 1TB NVMe SSD, WiFi 6, USB, RJ-45, Webcam, Amazon Alexa, Windows 11 S, w/GM Accessories\n",
       "18            Lenovo ThinkBook 15 Gen 4 15.6\" FHD Touchscreen (12th Gen Intel 10-Core i7-1255U, 16GB RAM, 512GB PCIe SSD, Narrow Bezel IPS) Business Laptop, Backlit KB, Fingerprint, Thunderbolt 4, Win 11 Pro\n",
       "19               HP 2022 Stream 14\" HD Laptop, Intel Celeron N4120 Processor, 4GB RAM, 64GB eMMC Storage, HD Webcam, HDMI, Wi-Fi, Bluetooth, Rose Gold, Office 365 1-Year, Windows 11 S, 32GB SnowBell USB Card\n",
       "20                           HP Stream Laptop, 14\" HD Display, Intel Celeron N4120 Processor, 8GB Memory, 128GB Storage (64GB eMMC + 64GB Card), Webcam, HDMI, Wi-Fi, USB-C, Windows 11 Home, Jet Black, JVQ MP\n",
       "21          Lenovo 14\" Laptop, IdeaPad 1, Intel Quad-core Processor, 14\" HD Anti-Glare Display, 4GB RAM, HDMI, SD Card Reader, Long Battery Life, Includes MS Office 365, Windows 11 Home in S Mode (256GB SSD)\n",
       "22          Acer Aspire 5 A515-45-R74Z Slim Laptop | 15.6\" Full HD IPS | AMD Ryzen 5 5500U Hexa-Core Mobile Processor | AMD Radeon Graphics | 8GB DDR4 | 256GB NVMe SSD | WiFi 6 | Backlit KB | Windows 11 Home\n",
       "23        Lenovo New Ideapad 3 14inch FHD Portable Laptop, Intel Core i7-1165G7(Quad-Core, Up to 4.7GHz ), 20GB RAM, 1TB PCIe SSD, WiFi 6, Fingerprint Reader, Webcam, HDMI, Card Reader, Win11, GM Accessories\n",
       "24           HP Newest Flagship 15.6 HD Touchscreen IPS Laptop, 4-Core i5-1135G7(Up to 4.2GHz, Beat i7-1060G7), 16GB RAM, 1TBGB PCIe SSD, Iris Xe Graphics, Bluetooth, WiFi, Windows 11 Home S,w/GM Accessories\n",
       "25                    Lenovo Ideapad 15.6' HD Laptop, Athlon Silver 3050U 2.3 GHz (Beats i3-1005G1) Dual-core Processor, 20GB RAM, 1TB PCIE SSD, WiFi, Webcam, Bluetooth, Win 11 S, Cloud Grey, JVQ, 1100GB SSD\n",
       "26        Acer Chromebook Spin 311 Convertible Laptop | Intel Celeron N4000 | 11.6\" HD Touch Corning Gorilla Glass Display | 4GB LPDDR4 | 64GB eMMC | Intel 802.11ac Gigabit WiFi 5 | Chrome OS | CP311-2H-C7QD\n",
       "28                                  Lenovo IdeaPad 15.6\" Laptop Newest, 15.6 Inch HD Anti-Glare Display, AMD Dual-core Processor, 20GB RAM 1TB SSD, WiFi6 Bluetooth5, 9.5Hr Battery, Windows 11 +GM Accessories\n",
       "29                       ASUS VivoBook 15 F515 Thin and Light Laptop, 15.6” FHD Display, Intel Core i3-1005G1 Processor, Fingerprint Reader, Backlit Keyboard, Windows 10 Home, Slate Grey (20GB RAM | 1TB SSD)\n",
       "30                    Lenovo 2022 Ideapad 1i 14.0\" HD Laptop, Intel Pentium Silver N5030 Processor, 4GB RAM, 128GB SSD, Intel HD Graphics, HD Webcam, Gray, Win 11 S, 1 Year Office 365, 32GB SnowBell USB Card\n",
       "31            2022 HP Stream 14inch Laptop, Intel Celeron N4020 Dual-Core Processor, 4GB DDR4 Memory,128GB Storage(64GB eMMC+Card),WiFi,Webcam,Bluetooth,1-Year Microsoft 365 Win10 S, Snow White | NoCo Bundle\n",
       "32           Acer Aspire 5 A515-56-32DK Slim Laptop - 15.6\" Full HD IPS Display - 11th Gen Intel i3-1115G4 Dual Core Processor - 4GB DDR4 - 128GB NVMe SSD - WiFi 6 - Amazon Alexa - Windows 11 Home in S mode.\n",
       "33                                                               Lenovo IdeaPad 1 14 Laptop, 14.0\" HD Display, Intel Celeron N4020, 4GB RAM, 64GB Storage, Intel UHD Graphics 600, Win 11 in S Mode, Cloud Grey\n",
       "34                                          Lenovo 15.6\" IdeaPad 1 Laptop, AMD Dual-core Processor, 15.6\" HD Anti-Glare Display, Wi-Fi 6 and Bluetooth 5.0, HDMI, Windows 11 Home in S Mode(20GB RAM | 1TB SSD)\n",
       "35                                               Microsoft Surface Laptop Go 12.4in Touchscreen PC, Intel Quad-Core i5-1035G1, 4GB RAM, 64GB eMMC, Webcam, Win 10 Pro, Bluetooth, Online Class Ready - Platinum\n",
       "36                                                      Ruzava Windows 10 Laptop Computers, 14\" 6GB RAM 128GB SSD Support 1TB SSD Expansion, 1920x1080 FHD Traditional Laptop for Work Study Entertainment-Gold\n",
       "38               2022 Acer Aspire 5 Slim Laptop, 15.6 inch FHD IPS Display, 11th Gen Intel Core i3-1115G4 Processor (Beats Ryzen 3 3250U), WiFi 6, Amazon Alexa, Windows 11 Home in S Mode (20GB RAM | 1TB SSD)\n",
       "39                                          Lenovo 15.6\" IdeaPad 1 Laptop, AMD Dual-core Processor, 15.6\" HD Anti-Glare Display, Wi-Fi 6 and Bluetooth 5.0, HDMI, Windows 11 Home in S Mode(20GB RAM | 1TB SSD)\n",
       "40                      Acer Aspire 5 Notebook Laptop, 15.6 inch FHD Display, Intel Core i7-1165G7, 20GB RAM, 1TB PCIe SSD, Webcam, Backlit Keyboard, Fingerprint Reader, HDMI, Wi-Fi 6, Windows 11 Home, Black\n",
       "41                                                       HP Newest 15.6\" Laptop , FHD, AMD R5-5500U, 8GB RAM, 256GB SSD, USB Type-C and USB Type-A , HDMI, Built-in Microphone/ Webcam, Windows 11, Spruce Blue\n",
       "42                           Lenovo IdeaPad 3 Laptop, 17.3\" FHD IPS Display, AMD Ryzen 5 5625U Processor (Beats i7-1255U), Wi-Fi 6, Fingerprint Reader, Long Battery Life, Windows 11 (16GB RAM | 1TB PCIe SSD)\n",
       "43                                                                HP 17-inch Laptop, 11th Generation Intel Core i5-1135G7, Iris Xe Graphics, 8 GB RAM, 256 GB SSD, Windows 11 Home (17-cn0025nr,Natural Silver)\n",
       "44                                    Dell 2022 Newest Inspiron 15 Laptop, 15.6\" HD Display, Intel Celeron N4020 Processor, 16GB DDR4 RAM, 1TB PCIe SSD, Webcam, HDMI, Wi-Fi, Bluetooth, Windows 11 Home, Black\n",
       "46                       Lenovo 2022 IdeaPad 1 15.6\" FHD Laptop, Intel Pentium Silver N6000 Processor, 20GB RAM, 1TB PCIe SSD, 720P HD Webcam, Dolby Audio, 1 Year Office, Blue, Win 11, 32GB Snowbell USB Card\n",
       "47                  Lenovo 2023 Newest Ideapad 1i Laptop, 14 inch HD Display, Intel Quad-Core Processor, 4GB RAM, 256GB Storage, Wi-Fi 6, Bluetooth, Cloud Grey, Windows 11 Home in S Mode, Bundle with JAWFOAL\n",
       "48        Acer Chromebook Spin 311 Convertible Laptop | Intel Celeron N4000 | 11.6\" HD Touch Corning Gorilla Glass Display | 4GB LPDDR4 | 64GB eMMC | Intel 802.11ac Gigabit WiFi 5 | Chrome OS | CP311-2H-C7QD\n",
       "49                                        Lenovo 15.6\" IdeaPad 1 Laptop, AMD Dual-core Processor, 15.6\" HD Anti-Glare Display, Wi-Fi 6 and Bluetooth 5.0, HDMI, Windows 11 Home in S Mode(12GB RAM | 256GB SSD)\n",
       "51                                  Lenovo IdeaPad 15.6\" Laptop Newest, 15.6 Inch HD Anti-Glare Display, AMD Dual-core Processor, 20GB RAM 1TB SSD, WiFi6 Bluetooth5, 9.5Hr Battery, Windows 11 +GM Accessories\n",
       "52                                          Lenovo 15.6\" IdeaPad 1 Laptop, AMD Dual-core Processor, 15.6\" HD Anti-Glare Display, Wi-Fi 6 and Bluetooth 5.0, HDMI, Windows 11 Home in S Mode(20GB RAM | 1TB SSD)\n",
       "53             Lenovo 2022 Newest Ideapad 3 Laptop, 15.6\" HD Touchscreen, 11th Gen Intel Core i3-1115G4 Processor, 8GB DDR4 RAM, 256GB PCIe NVMe SSD, HDMI, Webcam, Wi-Fi 5, Bluetooth, Windows 11 Home, Almond\n",
       "54         HP 2021 Stream 14\" HD SVA Laptop Computer, Intel Celeron N4000 Processor, 4GB RAM, 64GB eMMC Flash Memory, Webcam, 1-Year Office, Intel UHD Graphics 600, Win 10S, Rose Pink, 32GB SnowBell USB Card\n",
       "55      Lenovo Newest IdeaPad 1i 14\" HD Laptop, 4GB RAM, 256GB Storage, Intel Pentium N5030 Processor, 10Hrs Battery Life, Rapid Charge, Home&Education Laptop, HDMI, Type-C, Windows 11S, 1 Year Microsoft 365\n",
       "56        Lenovo ThinkBook 15 Premium Business Laptop, AMD Ryzen 5 5500U Processor (6 Cores, 4.0GHz), 15.6\" FHD IPS Anti-Glare Display, 20GB RAM, 1TB SSD, Backlit Keyboard, Fingerprint Reader, Windows 11 Pro\n",
       "57                                        Lenovo 15.6\" IdeaPad 1 Laptop, AMD Dual-core Processor, 15.6\" HD Anti-Glare Display, Wi-Fi 6 and Bluetooth 5.0, HDMI, Windows 11 Home in S Mode(12GB RAM | 256GB SSD)\n",
       "59                           Dell 2022 Newest Inspiron 15 3511 Laptop, 15.6\" FHD Touchscreen, Intel Core i5-1035G1, 32GB RAM, 1TB PCIe NVMe M.2 SSD, SD Card Reader, Webcam, HDMI, WiFi, Windows 11 Home, Black\n",
       "60                                  Lenovo IdeaPad 15.6\" Laptop Newest, 15.6 Inch HD Anti-Glare Display, AMD Dual-core Processor, 20GB RAM 1TB SSD, WiFi6 Bluetooth5, 9.5Hr Battery, Windows 11 +GM Accessories\n",
       "61                              Dell Newest Inspiron 15 3511 Laptop, 15.6\" FHD Touchscreen, Intel Core i5-1035G1, 16GB RAM, 512GB PCIe NVMe M.2 SSD, SD Card Reader, Webcam, HDMI, WiFi, Windows 11 Home, Black\n",
       "62       2022 HP Premium 14-inch HD Thin and Light Laptop, Intel Dual-Core Processor, 32GB RAM, 64GB Storage, Long Battery Life, Webcam, Bluetooth, HDMI, Wi-Fi, Indigo Blue, Windows 10 + 1 Year Microsoft 365\n",
       "64            Lenovo ThinkBook 15 Gen 4 15.6\" FHD Touchscreen (12th Gen Intel 10-Core i7-1255U, 16GB RAM, 512GB PCIe SSD, Narrow Bezel IPS) Business Laptop, Backlit KB, Fingerprint, Thunderbolt 4, Win 11 Pro\n",
       "65               HP 2022 Stream 14\" HD Laptop, Intel Celeron N4120 Processor, 4GB RAM, 64GB eMMC Storage, HD Webcam, HDMI, Wi-Fi, Bluetooth, Rose Gold, Office 365 1-Year, Windows 11 S, 32GB SnowBell USB Card\n",
       "66                           HP Stream Laptop, 14\" HD Display, Intel Celeron N4120 Processor, 8GB Memory, 128GB Storage (64GB eMMC + 64GB Card), Webcam, HDMI, Wi-Fi, USB-C, Windows 11 Home, Jet Black, JVQ MP\n",
       "67      HP Pavilion 17 Laptop, 17.3'' FHD IPS 100% sRGB Display, 11th Gen Intel Core i5-1135G7, Intel Iris Xe Graphics, 32 GB RAM, 1 TB SSD, WiFi, Webcam, Long Battery Life, Windows 11 (Latest Model), Silver\n",
       "68          Acer Aspire 5 A515-45-R74Z Slim Laptop | 15.6\" Full HD IPS | AMD Ryzen 5 5500U Hexa-Core Mobile Processor | AMD Radeon Graphics | 8GB DDR4 | 256GB NVMe SSD | WiFi 6 | Backlit KB | Windows 11 Home\n",
       "69        Lenovo New Ideapad 3 14inch FHD Portable Laptop, Intel Core i7-1165G7(Quad-Core, Up to 4.7GHz ), 20GB RAM, 1TB PCIe SSD, WiFi 6, Fingerprint Reader, Webcam, HDMI, Card Reader, Win11, GM Accessories\n",
       "70           HP Newest Flagship 15.6 HD Touchscreen IPS Laptop, 4-Core i5-1135G7(Up to 4.2GHz, Beat i7-1060G7), 16GB RAM, 1TBGB PCIe SSD, Iris Xe Graphics, Bluetooth, WiFi, Windows 11 Home S,w/GM Accessories\n",
       "71                    Lenovo Ideapad 15.6' HD Laptop, Athlon Silver 3050U 2.3 GHz (Beats i3-1005G1) Dual-core Processor, 20GB RAM, 1TB PCIE SSD, WiFi, Webcam, Bluetooth, Win 11 S, Cloud Grey, JVQ, 1100GB SSD\n",
       "72                       ASUS VivoBook 15 F515 Thin and Light Laptop, 15.6” FHD Display, Intel Core i3-1005G1 Processor, Fingerprint Reader, Backlit Keyboard, Windows 10 Home, Slate Grey (20GB RAM | 1TB SSD)\n",
       "74                                  Lenovo IdeaPad 15.6\" Laptop Newest, 15.6 Inch HD Anti-Glare Display, AMD Dual-core Processor, 20GB RAM 1TB SSD, WiFi6 Bluetooth5, 9.5Hr Battery, Windows 11 +GM Accessories\n",
       "75                       ASUS VivoBook 15 F515 Thin and Light Laptop, 15.6” FHD Display, Intel Core i3-1005G1 Processor, Fingerprint Reader, Backlit Keyboard, Windows 10 Home, Slate Grey (20GB RAM | 1TB SSD)\n",
       "76            2022 HP Stream 14inch Laptop, Intel Celeron N4020 Dual-Core Processor, 4GB DDR4 Memory,128GB Storage(64GB eMMC+Card),WiFi,Webcam,Bluetooth,1-Year Microsoft 365 Win10 S, Snow White | NoCo Bundle\n",
       "77                    Lenovo 2022 Ideapad 1i 14.0\" HD Laptop, Intel Pentium Silver N5030 Processor, 4GB RAM, 128GB SSD, Intel HD Graphics, HD Webcam, Gray, Win 11 S, 1 Year Office 365, 32GB SnowBell USB Card\n",
       "78           Acer Aspire 5 A515-56-32DK Slim Laptop - 15.6\" Full HD IPS Display - 11th Gen Intel i3-1115G4 Dual Core Processor - 4GB DDR4 - 128GB NVMe SSD - WiFi 6 - Amazon Alexa - Windows 11 Home in S mode.\n",
       "79                                                               Lenovo IdeaPad 1 14 Laptop, 14.0\" HD Display, Intel Celeron N4020, 4GB RAM, 64GB Storage, Intel UHD Graphics 600, Win 11 in S Mode, Cloud Grey\n",
       "81                                               Microsoft Surface Laptop Go 12.4in Touchscreen PC, Intel Quad-Core i5-1035G1, 4GB RAM, 64GB eMMC, Webcam, Win 10 Pro, Bluetooth, Online Class Ready - Platinum\n",
       "82                                          Lenovo 15.6\" IdeaPad 1 Laptop, AMD Dual-core Processor, 15.6\" HD Anti-Glare Display, Wi-Fi 6 and Bluetooth 5.0, HDMI, Windows 11 Home in S Mode(20GB RAM | 1TB SSD)\n",
       "83                                                      Ruzava Windows 10 Laptop Computers, 14\" 6GB RAM 128GB SSD Support 1TB SSD Expansion, 1920x1080 FHD Traditional Laptop for Work Study Entertainment-Gold\n",
       "84                                          Lenovo 15.6\" IdeaPad 1 Laptop, AMD Dual-core Processor, 15.6\" HD Anti-Glare Display, Wi-Fi 6 and Bluetooth 5.0, HDMI, Windows 11 Home in S Mode(20GB RAM | 1TB SSD)\n",
       "85        Acer Chromebook Spin 311 Convertible Laptop | Intel Celeron N4000 | 11.6\" HD Touch Corning Gorilla Glass Display | 4GB LPDDR4 | 64GB eMMC | Intel 802.11ac Gigabit WiFi 5 | Chrome OS | CP311-2H-C7QD\n",
       "86                      Acer Aspire 5 Notebook Laptop, 15.6 inch FHD Display, Intel Core i7-1165G7, 20GB RAM, 1TB PCIe SSD, Webcam, Backlit Keyboard, Fingerprint Reader, HDMI, Wi-Fi 6, Windows 11 Home, Black\n",
       "87                           Lenovo IdeaPad 3 Laptop, 17.3\" FHD IPS Display, AMD Ryzen 5 5625U Processor (Beats i7-1255U), Wi-Fi 6, Fingerprint Reader, Long Battery Life, Windows 11 (16GB RAM | 1TB PCIe SSD)\n",
       "88                                                       HP Newest 15.6\" Laptop , FHD, AMD R5-5500U, 8GB RAM, 256GB SSD, USB Type-C and USB Type-A , HDMI, Built-in Microphone/ Webcam, Windows 11, Spruce Blue\n",
       "89                                                                HP 17-inch Laptop, 11th Generation Intel Core i5-1135G7, Iris Xe Graphics, 8 GB RAM, 256 GB SSD, Windows 11 Home (17-cn0025nr,Natural Silver)\n",
       "90                                    Dell 2022 Newest Inspiron 15 Laptop, 15.6\" HD Display, Intel Celeron N4020 Processor, 16GB DDR4 RAM, 1TB PCIe SSD, Webcam, HDMI, Wi-Fi, Bluetooth, Windows 11 Home, Black\n",
       "92                       Lenovo 2022 IdeaPad 1 15.6\" FHD Laptop, Intel Pentium Silver N6000 Processor, 20GB RAM, 1TB PCIe SSD, 720P HD Webcam, Dolby Audio, 1 Year Office, Blue, Win 11, 32GB Snowbell USB Card\n",
       "93                  Lenovo 2023 Newest Ideapad 1i Laptop, 14 inch HD Display, Intel Quad-Core Processor, 4GB RAM, 256GB Storage, Wi-Fi 6, Bluetooth, Cloud Grey, Windows 11 Home in S Mode, Bundle with JAWFOAL\n",
       "94                                        Lenovo 15.6\" IdeaPad 1 Laptop, AMD Dual-core Processor, 15.6\" HD Anti-Glare Display, Wi-Fi 6 and Bluetooth 5.0, HDMI, Windows 11 Home in S Mode(12GB RAM | 256GB SSD)\n",
       "95        Lenovo New Ideapad 3 14inch FHD Portable Laptop, Intel Core i7-1165G7(Quad-Core, Up to 4.7GHz ), 20GB RAM, 1TB PCIe SSD, WiFi 6, Fingerprint Reader, Webcam, HDMI, Card Reader, Win11, GM Accessories\n",
       "97                                  Lenovo IdeaPad 15.6\" Laptop Newest, 15.6 Inch HD Anti-Glare Display, AMD Dual-core Processor, 20GB RAM 1TB SSD, WiFi6 Bluetooth5, 9.5Hr Battery, Windows 11 +GM Accessories\n",
       "98        Acer Chromebook Spin 311 Convertible Laptop | Intel Celeron N4000 | 11.6\" HD Touch Corning Gorilla Glass Display | 4GB LPDDR4 | 64GB eMMC | Intel 802.11ac Gigabit WiFi 5 | Chrome OS | CP311-2H-C7QD\n",
       "99                   ASUS Vivobook Laptop L210 11.6\" Ultra Thin Laptop, Intel Celeron N4020 Processor, 4GB RAM, 128GB eMMC Storage, Windows 11 Home in S Mode with One Year of Office 365 Personal, L210MA-DS04\n",
       "100                             Microsoft Surface Laptop Go 12.4\" Touchscreen, Intel Core i5-1035G1 Processor, 4 GB RAM, 128GB PCIe SSD, Up to 13Hr Battery Life, WiFi, Webcam, Windows 11 Pro, Platinum Silver\n",
       "101                              Acer Swift Edge 16\" 4K OLED 400 nits Extremely Thin & Light Laptop 8cores AMD Ryzen7 6800U Backlit KB Fingerprint Reader 100% DCI-P3 Windows11 Pro w/HDMI (16GB RAM | 2TB SSD)\n",
       "102     jumper Laptop 14 Inch, 12GB DDR4 256GB SSD, Thin Light Computer with FHD 1080p Display, Intel Quad Core Processor, Windows 11 Laptops, Dual-Band WiFi(2.4G/5G), Dual Speakers, Webcam, 35520mWH Battery\n",
       "103                                       Lenovo 15.6\" IdeaPad 1 Laptop, AMD Dual-core Processor, 15.6\" HD Anti-Glare Display, Wi-Fi 6 and Bluetooth 5.0, HDMI, Windows 11 Home in S Mode(12GB RAM | 256GB SSD)\n",
       "104                     HP 15 Laptop, 11th Gen Intel Core i5-1135G7 Processor, 8 GB RAM, 256 GB SSD Storage, 15.6” Full HD IPS Display, Windows 10 Home, HP Fast Charge, Lightweight Design (15-dy2021nr, 2020)\n",
       "106                                    ASUS ROG Strix G17 (2023) Gaming Laptop, 17.3” QHD 240Hz, GeForce RTX 4060, AMD Ryzen 9 7945HX, 16GB DDR5, 1TB PCIe SSD, Wi-Fi 6E, Windows 11, G713PV-DS94, Eclipse Gray\n",
       "107                      ASUS VivoBook 15 F515 Thin and Light Laptop, 15.6” FHD Display, Intel Core i3-1005G1 Processor, Fingerprint Reader, Backlit Keyboard, Windows 10 Home, Slate Grey (20GB RAM | 1TB SSD)\n",
       "108             2022 HP Premium 14-inch HD Thin and Light Laptop, Intel Quad-Core Processor, 32GB RAM, 64GB Storage, Long Battery Life, Webcam, Bluetooth, HDMI, Wi-Fi, Pink, Windows 11 + 1 Year Microsoft 365\n",
       "109                            HP Newest Flagship 15.6 FHD IPS Laptop for Business, 4-Core i7-1165G7(Up to 4.7GHz), 32GB RAM, 1TB PCIe SSD, Iris Xe Graphics, Bluetooth, WiFi, NumPad, Webcam, HDMI, Windows 11\n",
       "110                   Acer 2023 Newest Aspire 5 15.6\" FHD IPS Slim Laptop, Intel Core i3-1115G4(Up to 4.1GHz), 20GB RAM, 1TB NVMe SSD, WiFi 6, USB, RJ-45, Webcam, Amazon Alexa, Windows 11 S, w/GM Accessories\n",
       "111                           ASUS ZenBook Pro 15 OLED Laptop 15.6” FHD Touch Display, AMD Ryzen 9 5900HX CPU, NVIDIA GeForce RTX 3050 Ti gpu, 16GB RAM, 1TB PCIe SSD, Windows 11 Pro, Pine Grey, UM535QE-XH91T\n",
       "112                                      2022 Newest HP 17 Laptop, 17.3\" FHD IPS Display, Intel Core i5-1135G7 Quad-Core Processor, Intel Graphics, 32GB RAM, 1TB PCIe SSD, HDMI, Windows 11 + Microfiber Cloth\n",
       "114            2022 Newest HP Laptop with Microsoft Office Included 1-Year, 15.6\" HD Screen, AMD Athlon 3050U 16GB RAM 1TB SSD HDMI Port Webcam Gold White Windows 11 | College Student Bundle, ROKC HDMI Cable\n",
       "115             2022 HP Envy 17.3\" FHD Touchscreen Laptop, Intel Core i7-1165G7, 64GB RAM, 2TB SSD, Backlit Keyboard, Intel Iris Xe Graphics, Fingerprint Reader, Webcam, Windows 11 Pro, Silver, 32GB USB Card\n",
       "116        Acer 2023 Newest Aspire 5 Slim Laptop, 15.6\" Full HD Display, 8GB RAM, 256GB SSD Storage, AMD Ryzen 4-Core Processor, Backlit Keyboard, Fingerprint Login, HDMI, Ethernet Port, Type-C, Windows 11 S\n",
       "117              HP 2022 15.6\" FHD Laptop, AMD Ryzen 5-5500U Processor(Beats Intel i7-1065G7), 12GB RAM, 512GB PCIe SSD, AMD Radeon Graphics, HD Webcam, Bluetooth, Wi-fi, Win 11, Blue, 32GB Snowbell USB Card\n",
       "118       Lenovo New Ideapad 3 14inch FHD Portable Laptop, Intel Core i7-1165G7(Quad-Core, Up to 4.7GHz ), 20GB RAM, 1TB PCIe SSD, WiFi 6, Fingerprint Reader, Webcam, HDMI, Card Reader, Win11, GM Accessories\n",
       "120                                 Lenovo IdeaPad 15.6\" Laptop Newest, 15.6 Inch HD Anti-Glare Display, AMD Dual-core Processor, 20GB RAM 1TB SSD, WiFi6 Bluetooth5, 9.5Hr Battery, Windows 11 +GM Accessories\n",
       "121                      ASUS VivoBook 15 F515 Thin and Light Laptop, 15.6” FHD Display, Intel Core i3-1005G1 Processor, Fingerprint Reader, Backlit Keyboard, Windows 10 Home, Slate Grey (20GB RAM | 1TB SSD)\n",
       "122                                                   Bmax 14\" Laptop 6GB RAM 256GB SSD Windows 10 Laptop 1920x1080 Full HD Thin Traditional Laptop Computer Expandable 1TB SSD, HDMI, BT, USB3.0, 2.4G/5G WiFi\n",
       "123                           Dell Inspiron 15 3000 Series 3511 Laptop, 15.6\" FHD Touchscreen, Intel Core i5-1035G1, 16GB DDR4 RAM, 512GB PCIe SSD, SD Card Reader, Webcam, HDMI, Wi-Fi, Windows 11 Home, Black\n",
       "124                                                                                                        Microsoft Surface Laptop Go - 12.4\" Touchscreen - Intel Core i5 - 8GB Memory - 128GB SSD - Sandstone\n",
       "125     HP 14 Laptop, Intel Celeron N4020, 4 GB RAM, 64 GB Storage, 14-inch Micro-edge HD Display, Windows 10 Home, Thin & Portable, 4K Graphics, One Year of Microsoft 365 (14-dq0030nr, 2021, Pale Rose Gold)\n",
       "126                HP 2022 15.6\" HD BrightView Laptop, Intel Pentium Silver N5030 Processor, 8GB RAM, 256GB PCIe SSD, Intel HD Graphics 605, 720p HD Webcam, Stereo Speakers, Silver, Windows 11, 32GB USB Card\n",
       "127         HP 2023 Newest 14 Laptop for Productivity and Entertainment,14\" FHD Display, 8GB RAM, 256GB SSD, AMD Ryzen 3 Processor Upto 3.5GHz, Type-C, HDMI, Fast Charge, 10 Hrs Long Battery Life, Windows 11\n",
       "128     Chicbuy Laptop 15.6''12GB DDR4 512GB SSD Quad-Core Intel Celeron N5095 Processors Windows 11 Laptop Computer,1080P IPS Full HD Laptop,USB 3.0,Up to 2.9Ghz,Bluetooth 4.2,2.4G/5G WiFi,Long Battery Life\n",
       "129                ASUS VivoBook 14 Slim Laptop Computer, 14\" IPS FHD Display, Intel Core i3-1115G4 Processor, 4GB DDR4, 128GB PCIe SSD, Fingerprint Reader, Windows 11 Home in S Mode, Slate Grey, F415EA-AS31\n",
       "130       Acer Chromebook Spin 311 Convertible Laptop | Intel Celeron N4000 | 11.6\" HD Touch Corning Gorilla Glass Display | 4GB LPDDR4 | 64GB eMMC | Intel 802.11ac Gigabit WiFi 5 | Chrome OS | CP311-2H-C7QD\n",
       "131      2022 HP Premium 14-inch HD Thin and Light Laptop, Intel Dual-Core Processor, 32GB RAM, 64GB Storage, Long Battery Life, Webcam, Bluetooth, HDMI, Wi-Fi, Indigo Blue, Windows 10 + 1 Year Microsoft 365\n",
       "132                                            HP Newest 17 Laptop, 17.3\" HD+ Display, 11th Gen Intel Core i3-1115G4 Processor, 32GB RAM, 1TB PCIe SSD, Webcam, Bluetooth, HDMI, RJ-45, Windows 11 Home, Silver\n",
       "133      Lenovo 2022 Upgraded Ideapad 1i Laptops, 14 inch HD Computer, Intel Celeron N4020, 4GB RAM, 128GB SSD(64GB SSD+64GB Card), 1-Year Office 365, Webcam, Wi-Fi, Bluetooth, Windows 11, LIONEYE HDMI Cable\n",
       "134                                               Acer 2023 Newest Aspire 5 Slim Essential Laptop, 15.6\" Full HD IPS Display, 20GB RAM, 1TB SSD, Intel Dual-Core i3 Processor Up to 4.1 GHz, HDMI, Windows 11 S\n",
       "136                                    Lenovo Ideapad 15.6\" HD Laptop, Athlon Silver 3050U (Beats i3-1005G1) Dual-core Processor, 8GB RAM, 128GB SSD, WiFi, Webcam, Bluetooth, Win 11 S, Cloud Grey, TGC Bundle\n",
       "137      Lenovo IdeaPad 2023 Newest 14\" HD Laptop Computer for Business, Quad Core Intel Pentium N5030 (Upto 3.1GHz), 4GB RAM, 128GB eMMC,WiFi, Webcam, 10+ Hours Battery, Microsoft 365, Win 11S+MarxsolCables\n",
       "138                               Acer 2023 Aspire 5 Slim Laptop 15.6\" IPS FHD, AMD Ryzen 5 5500U 6 core (Beat i7-1160G7, up to 4GHz), 24GB RAM 1TB PCIe SSD, Backlit KB, WiFi 6, HDMI, Win 11 w/GM Accessories\n",
       "139       HP Newest 14 FHD Laptop for Business and Students Essential, 16GB RAM, 512GB PCIe SSD, AMD Ryzen Dual-Core Processor, Webcam, HDMI, WiFi, Fast Charge, Long Battery Life, Win 11 Home, GM Accessories\n",
       "140              2022 Acer Aspire 5 Slim Laptop, 15.6 inch FHD IPS Display, 11th Gen Intel Core i3-1115G4 Processor (Beats Ryzen 3 3250U), WiFi 6, Amazon Alexa, Windows 11 Home in S Mode (20GB RAM | 1TB SSD)\n",
       "143                      ASUS VivoBook 15 F515 Thin and Light Laptop, 15.6” FHD Display, Intel Core i3-1005G1 Processor, Fingerprint Reader, Backlit Keyboard, Windows 10 Home, Slate Grey (20GB RAM | 1TB SSD)\n",
       "144       Acer Chromebook Spin 311 Convertible Laptop | Intel Celeron N4000 | 11.6\" HD Touch Corning Gorilla Glass Display | 4GB LPDDR4 | 64GB eMMC | Intel 802.11ac Gigabit WiFi 5 | Chrome OS | CP311-2H-C7QD\n",
       "145                  HP Pavilion 15.6\" FHD Touchscreen Laptop, AMD Ryzen 7-5825U Processor (Beat i7-1180G7),32GB RAM, 1TB PCIe SSD, Wi-Fi 6, Backlit Keyboard, HDMI, Webcam, Bluetooth, Windows 11 Home, Silver\n",
       "146      Acer Swift 3 Thin & Light Laptop | 14\" Full HD IPS 100% sRGB Display | AMD Ryzen 7 5700U Octa-Core Processor | 8GB LPDDR4X | 512GB NVMe SSD | WiFi 6 | Backlit KB | FPR | Amazon Alexa | SF314-43-R2YY\n",
       "147            Tulasi 12GB RAM 256GB SSD Intel Celeron N4120 Quad-Core Windows 11 Laptop Computers, 14 inch Full HD 1080P IPS Display Ultra Slim Laptop, 2.4G/5G WiFi, Bluetooth 4.2, Webcam, Long Battery Life\n",
       "148                LG Gram 17Z95P Laptop 17\" Ultra-Lightweight, IPS, (2560 x 1600), Intel Evo 11th gen CORE i7, 16GB RAM, 1TB SSD, Windows 11 Home, 80Wh Battery, Alexa Built-in, 2X USB-C, HDMI, USB-A – Black\n",
       "149       Acer Nitro 5 AN515-57-79TD Gaming Laptop | Intel Core i7-11800H | NVIDIA GeForce RTX 3050 Ti Laptop GPU | 15.6\" FHD 144Hz IPS Display | 8GB DDR4 | 512GB NVMe SSD | Killer Wi-Fi 6 | Backlit Keyboard\n",
       "150                        Lenovo Flex 3 Chromebook 2-in-1 11.6\" HD (1366 x 768) Touchscreen Laptop (4-Core MediaTek MT8173C, 4GB RAM, 128GB (64GB eMMC+64GB SD Card)) flip-and-fold, Type-C, Webcam, Chrome OS\n",
       "151      jumper Laptop 14 inch 12GB DDR4 RAM 256GB SSD,Intel Quad Core Celeron N4100, Windows 11 Thin and Light Laptops Computer, Full HD 1080P Display,HD Webcam,Dual Speakers,2.4/5Ghz WiFi,Long Battery Life\n",
       "153      2022 HP Premium 14-inch HD Thin and Light Laptop, Intel Dual-Core Processor, 32GB RAM, 64GB Storage, Long Battery Life, Webcam, Bluetooth, HDMI, Wi-Fi, Indigo Blue, Windows 10 + 1 Year Microsoft 365\n",
       "154              2022 Acer Aspire 5 Slim Laptop, 15.6 inch FHD IPS Display, 11th Gen Intel Core i3-1115G4 Processor (Beats Ryzen 3 3250U), WiFi 6, Amazon Alexa, Windows 11 Home in S Mode (20GB RAM | 1TB SSD)\n",
       "155                 HP 15.6\" Laptop, Intel Core i5-1135G7 Processor, Intel Iris Xe Graphics, 15.6\" FHD Anti-Glare Display, Online Meeting Ready, HDMI, Wi-Fi and Bluetooth, Windows 11 Home(16GB RAM | 1TB SSD)\n",
       "156                           14.1\" Full HD Windows 10 Professional Slim n Light Laptop, Revolutionary Design - 4GB RAM, 64GB Storage S14+ Model Lapbook, Intel Celeron, USB 3.0, 5GHz WiFi, Expandable Storage\n",
       "157                        HP 2022 15.6\" HD BrightView Laptop, Intel Pentium N5030 Processor, 8GB RAM, 256GB PCIe SSD, Intel HD Graphics, HD Webcam, Stereo Speakers, Black, Windows 11, 32GB SnowBell USB Card\n",
       "158                                     ASUS 2022 14\" HD Laptop, Intel Celeron N4020 Processor, 4GB RAM, 64GB eMMC , Webcam, Intel HD Graphics 500, Bluetooth, Windows 11 S, Rose Gold, 128GB SnowBell USB Card\n",
       "159    ASUS Vivobook Go 15 L510 Thin & Light Laptop Computer, 15.6” FHD Display, Intel Celeron N4020 Processor, 4GB RAM, 64GB Storage, Windows 11 Home in S Mode, 1 Year Microsoft 365, Star Black, L510MA-AS02\n",
       "160                              Acer 2022 15inch HD IPS Chromebook, Intel Dual-Core Celeron Processor Up to 2.55GHz, 4GB RAM, 32GB Storage, Super-Fast WiFi Up to 1300 Mbps, Chrome OS-(Renewed) (Dale Silver)\n",
       "161                            ASUS VivoBook 15 F1500EA Slim Laptop, 15.6\" FHD Display, 11th Gen Intel Core i3-1115G4 Processor, 4GB DDR4, 128GB NVMe SSD, Windows 11 Home in S Mode, Indie Black, F1500EA-AS31\n",
       "162        OTVOC Laptop 15.6 inch Windows 11, VocBook 15, Intel Celeron N5100, 16GB RAM, 512GB PCIE NvMe SSD, 4TB Expansion, 15.6\" FHD IPS, 2.0MP, 2.4G+5G WiFi, Bluetooth 5.0, Type-C, HDMI, RJ45, HDD, Silver\n",
       "163        OTVOC Laptop 15.6 inch Windows 11, VocBook 15, Intel Celeron N5100, 16GB RAM, 512GB PCIE NvMe SSD, 4TB Expansion, 15.6\" FHD IPS, 2.0MP, 2.4G+5G WiFi, Bluetooth 5.0, Type-C, HDMI, RJ45, HDD, Silver\n",
       "164                     HP Pavalion Laptop, 14\" HD Touchscreen, Intel Core i3-1115G4 Processor, Micro-Edge, Thin & Portable, Micro-Edge & Anti-Glare Screen, Long Battery Life, Windows 11 (16GB RAM | 1TB SSD)\n",
       "166                      ASUS VivoBook 15 F515 Thin and Light Laptop, 15.6” FHD Display, Intel Core i3-1005G1 Processor, Fingerprint Reader, Backlit Keyboard, Windows 10 Home, Slate Grey (20GB RAM | 1TB SSD)\n",
       "167       Acer Chromebook Spin 311 Convertible Laptop | Intel Celeron N4000 | 11.6\" HD Touch Corning Gorilla Glass Display | 4GB LPDDR4 | 64GB eMMC | Intel 802.11ac Gigabit WiFi 5 | Chrome OS | CP311-2H-C7QD\n",
       "168                           14.1\" Full HD Windows 10 Professional Slim n Light Laptop, Revolutionary Design - 4GB RAM, 64GB Storage S14+ Model Lapbook, Intel Celeron, USB 3.0, 5GHz WiFi, Expandable Storage\n",
       "169             2022 HP Envy 17.3\" FHD Touchscreen Laptop, Intel Core i7-1165G7, 64GB RAM, 2TB SSD, Backlit Keyboard, Intel Iris Xe Graphics, Fingerprint Reader, Webcam, Windows 11 Pro, Silver, 32GB USB Card\n",
       "170         Lenovo IdeaPad 1 15.6\" Home & Business Laptop (AMD Athlon 3050U, 8GB RAM, 256GB SSD) Anti-Glare, Webcam, Wi-Fi 6, HDMI, Type-C, 10-Hour Long Battery, IST Computers Cable, Win 11 Home – 2023 Model\n",
       "171              HP Premium 14-inch HD Thin and Light Laptop, Intel Dual-Core Processor, 8GB RAM, 64GB Storage, Long Battery Life, Webcam, Bluetooth, HDMI, Wi-Fi, Rose Gold, Windows 11 + 1 Year Microsoft 365\n",
       "172                                      2022 Newest HP 17 Laptop, 17.3\" FHD IPS Display, Intel Core i5-1135G7 Quad-Core Processor, Intel Graphics, 32GB RAM, 1TB PCIe SSD, HDMI, Windows 11 + Microfiber Cloth\n",
       "173        OTVOC Laptop 15.6 inch Windows 11, VocBook 15, Intel Celeron N5100, 16GB RAM, 512GB PCIE NvMe SSD, 4TB Expansion, 15.6\" FHD IPS, 2.0MP, 2.4G+5G WiFi, Bluetooth 5.0, Type-C, HDMI, RJ45, HDD, Silver\n",
       "174                    MSI Pulse GL66 15.6\" FHD 144Hz Gaming Laptop: Intel Core i7-12700H RTX 3070 16GB 512GB NVMe SSD, Type-C USB 3.2 Gen 1, RGB Gaming Keyboard, Cooler Boost 5, Win11 Home: Black 12UGKV-464\n",
       "175                                                      Acer Aspire 5 A515-56-36UT, 15.6\" Full HD Display, 11th Gen Intel Core i3-1115G4 Processor, 4GB DDR4, 128GB NVMe SSD, WiFi 6, Windows 11 Home (S Mode)\n",
       "176                                 Lenovo IdeaPad 15.6\" Laptop Newest, 15.6 Inch HD Anti-Glare Display, AMD Dual-core Processor, 20GB RAM 1TB SSD, WiFi6 Bluetooth5, 9.5Hr Battery, Windows 11 +GM Accessories\n",
       "177      2022 HP Premium 14-inch HD Thin and Light Laptop, Intel Dual-Core Processor, 32GB RAM, 64GB Storage, Long Battery Life, Webcam, Bluetooth, HDMI, Wi-Fi, Indigo Blue, Windows 10 + 1 Year Microsoft 365\n",
       "178                        MSI Stealth 15M Gaming Laptop: 15.6\" 144Hz FHD 1080p Display, Intel Core i7-11375H, NVIDIA GeForce RTX 3060, 16GB, 512GB SSD, Thunderbolt 4, WiFi 6, Win10, Carbon Gray (A11UEK-009)\n",
       "180          HP 2023 Newest Pavilion 15.6\" HD Laptop, Quad Core Intel Pentium N5030 (Upto 3.1GHz), 16GB RAM, 1TB SSD, Intel UHD Graphics, WiFi, Webcam, RJ-45, 11hr+ Battery, Scarlet Red, Win 11+MarxsolCables\n",
       "181                Lenovo 2023 Newest IdeaPad 3 14\" FHD Laptop, for Students and Business, Intel Core i3-1115G4(Up to 4.1GHz), 20GB DDR4 RAM, 1TB NVMe SSD, Webcam, HDMI, WiFi 6, Win 11 Home, W/GM Accessories\n",
       "182                            ASUS Zenbook 14 Flip OLED Ultra Slim Laptop, 14” 2.8K 16:10 OLED Touch Display, AMD Ryzen 7 6800H CPU, 16GB RAM, 1TB SSD, NumberPad, Windows 11 Home, Jade Black, UN5401RA-DB74T\n",
       "183             Windows 11 Laptop,13.5 Inch Pentium J3710 Quad core, 4GB RAM+128GB SSD, Thin & Light Notebook PC,3000x2000 3K Panel, 5G+AC WiFi, All-Metal Body, Backlit Keyboard, Finger Print, WPS,HDMI, Gray\n",
       "184       2022 Newest HP 14 Laptop, 14\" HD IPS Display, AMD Ryzen 3 3250U Processor, AMD Radeon Graphics, 8GB RAM, 128GB SSD, USB Type-C, HDMI, Long Battery Life Up to 10 Hours, Windows 11 + Microfiber Cloth\n",
       "185              ASUS Chromebook Light Laptop, 17.3\" FHD Widescreen Slim-Bezel, Intel Celeron N4500, Type-C, Wi-Fi 6, Intel UHD Graphics, 17 Hours Battery Life, Webcam (4GB DDR4 RAM | 32GB eMMC+128G SD Card)\n",
       "186                          2021 Newest 15.6\" HP Pavilion HD Laptop, Intel Quad-core Pentium Processor, 16GB RAM, 1TB SSD, Intel UHD Graphics, HD Webcam, Bluetooth, HDMI, USB Type-C, Scarlet Red, Windows 10\n",
       "187              2022 Acer Aspire 5 Slim Laptop, 15.6 inch FHD IPS Display, 11th Gen Intel Core i3-1115G4 Processor (Beats Ryzen 3 3250U), WiFi 6, Amazon Alexa, Windows 11 Home in S Mode (20GB RAM | 1TB SSD)\n",
       "189                      ASUS VivoBook 15 F515 Thin and Light Laptop, 15.6” FHD Display, Intel Core i3-1005G1 Processor, Fingerprint Reader, Backlit Keyboard, Windows 10 Home, Slate Grey (20GB RAM | 1TB SSD)\n",
       "190       Acer Chromebook Spin 311 Convertible Laptop | Intel Celeron N4000 | 11.6\" HD Touch Corning Gorilla Glass Display | 4GB LPDDR4 | 64GB eMMC | Intel 802.11ac Gigabit WiFi 5 | Chrome OS | CP311-2H-C7QD\n",
       "191                        ASUS Laptop L210 11.6” Ultra Thin, Intel Celeron N4020 Processor, 4GB RAM, 64GB eMMC Storage, Windows 10 Home in S Mode with One Year of Office 365 Personal, L210MA-DB02,Star Black\n",
       "192                            ASUS Vivobook Go 12 L210 11.6” Ultra-Thin Laptop, 2022 Version, Intel Celeron N4020, 4GB RAM, 64GB eMMC, Win 11 Home in S Mode with One Year of Office 365 Personal, L210MA-DS02\n",
       "193                                    ASUS VivoBook 14\" FHD 1080p Laptop, Intel Core i3-1115G4, 8GB RAM, 256GB PCIe SSD, Fingerprint Reader, Backlit Keyboard, HDMI, WiFi, Webcam, Windows 11 Home, Slate Grey\n",
       "194                                                                  OEM Lenovo ThinkPad E15 Gen 2 15.6\" FHD IPS, AMD Ryzen 7 4700U Octa Core (Beats Intel i7-1255U), 40GB RAM, 1TB NVMe, W10P, Business Laptop\n",
       "195               HP 2022 Pavilion 17 Laptop, 17.3\" HD+ Anti-Glare Display, 11th Gen Intel Core i3-1115G4, 16GB RAM, 256 GB PCIe SSD, Wireless-AC, Webcam, Long Battery Life, Windows 11, Silver (Latest Model)\n",
       "196                             ASUS VivoBook Pro 16X OLED Slim Laptop, 16\" 4K 16:10 Display, AMD Ryzen 9 6900H CPU, NVIDIA GeForce RTX 3050 Ti, 32GB RAM, 1TB SSD, Windows 11 Home, 0°Black, M7600RE-XB99,Gray\n",
       "197           ASUS ZenBook Flip S13 Slim Laptop, 13.3” 4K OLED Touch, Intel Evo Platform Core i7-1165G7, 16GB RAM, 1TB SSD, Thunderbolt 4, TPM, Windows 11 Pro, AI Noise-Cancellation, Jade Black UX371EA-XH76T\n",
       "198                                                                          Lenovo IdeaPad 1 14” HD Laptop, Intel Pentium Silver N5030, 4GB RAM, 128GB SSD, Windows 11 Home S Mode, Office 365 1 Year Included\n",
       "199                                 Lenovo IdeaPad 15.6\" Laptop Newest, 15.6 Inch HD Anti-Glare Display, AMD Dual-core Processor, 20GB RAM 1TB SSD, WiFi6 Bluetooth5, 9.5Hr Battery, Windows 11 +GM Accessories\n",
       "200      2022 HP Premium 14-inch HD Thin and Light Laptop, Intel Dual-Core Processor, 32GB RAM, 64GB Storage, Long Battery Life, Webcam, Bluetooth, HDMI, Wi-Fi, Indigo Blue, Windows 10 + 1 Year Microsoft 365\n",
       "201           HP Stream 14\" HD Thin and Light Laptop, Intel Celeron N4120 Processor, 4GB Memory, 64GB eMMC Storage, WiFi 5, Webcam, HDMI, 1 Year Office 365, Windows 11 S, Rose Gold, W/IFT 2-Week Care-Service\n",
       "203       2022 Newest HP 14 Laptop, 14\" HD IPS Display, AMD Ryzen 3 3250U Processor, AMD Radeon Graphics, 8GB RAM, 128GB SSD, USB Type-C, HDMI, Long Battery Life Up to 10 Hours, Windows 11 + Microfiber Cloth\n",
       "204                Lenovo 2023 Newest IdeaPad 3 14\" FHD Laptop, for Students and Business, Intel Core i3-1115G4(Up to 4.1GHz), 20GB DDR4 RAM, 1TB NVMe SSD, Webcam, HDMI, WiFi 6, Win 11 Home, W/GM Accessories\n",
       "205                                                                                                          Microsoft Surface Laptop Go 12.4-inch Touchscreen Intel Core i5-1035G1 4GB 64GB eMMC Win 10 S Mode\n",
       "206    Acer Aspire 1 A115-32-C96U Slim Laptop | 15.6\" Full HD Display | Intel Celeron N4500 Processor | 4GB DDR4 | 128GB eMMC | WiFi 5 | Microsoft 365 Personal 1-Year Subscription | Windows 11 Home in S mode\n",
       "207      Lenovo 2023 Newest Ideapad 1i 14\" HD Ultra-Light Laptop, Intel Pentium N5030 4-Core(Beat N4020), 4GB RAM, 128GB Storage, Stereo Speakers, Up to 10 Hours, WiFi, USB-A&C, 1 Year Microsoft 365, Win11 S\n",
       "208       CHUWI HeroBook Pro 14.1'' Laptop, 8GB RAM 256GB SSD, Windows 11 Laptop, 1TB SSD Expand, Intel Celeron N4020(up to 2.8GHz), 2K FHD IPS Display, Ultra Slim, Mini-HDMI, 5G WiFi, USB3.0, Webcam,TF Card\n",
       "209                          2021 Newest 15.6\" HP Pavilion HD Laptop, Intel Quad-core Pentium Processor, 16GB RAM, 1TB SSD, Intel UHD Graphics, HD Webcam, Bluetooth, HDMI, USB Type-C, Scarlet Red, Windows 10\n",
       "210              2022 Acer Aspire 5 Slim Laptop, 15.6 inch FHD IPS Display, 11th Gen Intel Core i3-1115G4 Processor (Beats Ryzen 3 3250U), WiFi 6, Amazon Alexa, Windows 11 Home in S Mode (20GB RAM | 1TB SSD)\n",
       "212                      ASUS VivoBook 15 F515 Thin and Light Laptop, 15.6” FHD Display, Intel Core i3-1005G1 Processor, Fingerprint Reader, Backlit Keyboard, Windows 10 Home, Slate Grey (20GB RAM | 1TB SSD)\n",
       "213       Acer Chromebook Spin 311 Convertible Laptop | Intel Celeron N4000 | 11.6\" HD Touch Corning Gorilla Glass Display | 4GB LPDDR4 | 64GB eMMC | Intel 802.11ac Gigabit WiFi 5 | Chrome OS | CP311-2H-C7QD\n",
       "214         Lenovo IdeaPad 1 15.6\" Home & Business Laptop (AMD Athlon 3050U, 8GB RAM, 256GB SSD) Anti-Glare, Webcam, Wi-Fi 6, HDMI, Type-C, 10-Hour Long Battery, IST Computers Cable, Win 11 Home – 2023 Model\n",
       "215                                  HP Pavilion Business Laptop, 15.6\" HD Touchscreen, Intel Core i5-1135G7 Processor, Long Battery Life, Compact Design, HP Fast Charge, Windows 11 (16GB RAM | 1TB PCIe SSD)\n",
       "216                                HP Pavilion Laptop (2022 Model), 15.6\" HD Display, Intel Celeron Quad-Core Processor, 16GB DDR4 RAM, 1TB SSD, Online Conferencing, Webcam, HDMI, WiFi, Bluetooth, Windows 11\n",
       "217                                 HP Pavilion 15.6\" FHD Laptop, AMD Ryzen 5 5500U (Beats i7-11370H), Thin & Portable, Micro-Edge & Anti-Glare Screen, Long Battery Life, Windows 11 (16GB RAM | 1TB PCIe SSD)\n",
       "218                  Dell Inspiron 14 5420 14 inch Student Laptop - 2.2K Display, Intel Core i7-1255U, 16GB DDR4 RAM, 512GB SSD, NVIDIA GeForce MX570, HDMI, USB-C, Bluetooth, Wi-Fi 6, Windows 11 Pro - Silver\n",
       "219              Dell G16 7620 Gaming Laptop - 16-inch QHD 165Hz Display, Intel Core i9-12900H Processor, 32GB DDR5 RAM, 1TB SSD, WiFi 6, NVIDIA GeForce RTX3070Ti Graphics, Services + Windows 11 Home - Black\n",
       "220                            HP 2022 14\" HD Display Laptop, AMD Ryzen 3-3250U, 16GB RAM, 512GB PCIe SSD, AMD Radeon Graphics, True Vision HD Camera, Bluetooth, Windows 11 S, Silver, 32GB Snow Bell USB Card\n",
       "221        HP 2022 High Performance Business Laptop - 17.3\" HD+ Touchscreen - 10-Core 12th Intel i7-1255U Iris Xe Graphics - 32GB DDR4 - 1TB SSD - WiFi 6 Bluetooth - Backlit Keyboard - Win 11 Pro w/ 32GB USB\n",
       "222                                 Lenovo IdeaPad 15.6\" Laptop Newest, 15.6 Inch HD Anti-Glare Display, AMD Dual-core Processor, 20GB RAM 1TB SSD, WiFi6 Bluetooth5, 9.5Hr Battery, Windows 11 +GM Accessories\n",
       "223      2022 HP Premium 14-inch HD Thin and Light Laptop, Intel Dual-Core Processor, 32GB RAM, 64GB Storage, Long Battery Life, Webcam, Bluetooth, HDMI, Wi-Fi, Indigo Blue, Windows 10 + 1 Year Microsoft 365\n",
       "224                    MSI Pulse GL66 15.6\" FHD 144Hz Gaming Laptop: Intel Core i7-12700H RTX 3070 16GB 512GB NVMe SSD, Type-C USB 3.2 Gen 1, RGB Gaming Keyboard, Cooler Boost 5, Win11 Home: Black 12UGKV-464\n",
       "225                     ASUS Vivobook S 14 Flip 14” WUXGA 16:10 Touch, AMD Ryzen 5 5600H CPU, 16GB RAM, 512GB SSD, NumberPad, Fingerprint Sensor, Stylus Supported, Windows 11 Home, Quiet Blue, TN3402QA-DB56T\n",
       "226             Windows 11 Laptop,13.5 Inch Pentium J3710 Quad core, 4GB RAM+128GB SSD, Thin & Light Notebook PC,3000x2000 3K Panel, 5G+AC WiFi, All-Metal Body, Backlit Keyboard, Finger Print, WPS,HDMI, Gray\n",
       "227      HP Newest Flagship 15.6 HD Pavilion Laptop for Business and Student, Intel Pentium Quad-Core Processor, 16GB RAM, 1TB SSD, Online Conferencing, Webcam, HDMI, WiFi, Bluetooth, Fast Charge, Win11, Red\n",
       "228                      ASUS ROG Strix G15 (2022) Gaming Laptop, 15.6\" 300Hz IPS FHD Display, NVIDIA GeForce RTX 3050, AMD Ryzen 7 6800H, 16GB DDR5, 1TB SSD, RGB Keyboard, Windows 11 Home, G513RC-IS74,Gray\n",
       "229     2022 Upgraded Ideapad 1i Laptops for College Student & Business by Lenovo, 14-inch HD Computer, Intel Celeron N4020, 4GB RAM, 128GB(64GB SSD+64GB Card), 1-Year MS Office 365, HDMI, Webcam, Windows 11\n",
       "230                ASUS ROG Strix Scar 15 Gaming Laptop, 15.6” 240Hz IPS QHD Display, NVIDIA GeForce RTX 3070 Ti, Intel Core i9 12900H, 16GB DDR5, 1TB SSD, Per-Key RGB Keyboard, Windows 11 Home, G533ZW-AS94Q\n",
       "231                                                                         Lenovo - 2022 - IdeaPad 3 - Travel Laptop Computer - AMD Ryzen 5 - 17.3\" FHD Display - 8GB Memory - 512GB Storage - Windows 11 Home\n",
       "232                          2021 Newest 15.6\" HP Pavilion HD Laptop, Intel Quad-core Pentium Processor, 16GB RAM, 1TB SSD, Intel UHD Graphics, HD Webcam, Bluetooth, HDMI, USB Type-C, Scarlet Red, Windows 10\n",
       "233       Lenovo New Ideapad 3 14inch FHD Portable Laptop, Intel Core i7-1165G7(Quad-Core, Up to 4.7GHz ), 20GB RAM, 1TB PCIe SSD, WiFi 6, Fingerprint Reader, Webcam, HDMI, Card Reader, Win11, GM Accessories\n",
       "235                      ASUS VivoBook 15 F515 Thin and Light Laptop, 15.6” FHD Display, Intel Core i3-1005G1 Processor, Fingerprint Reader, Backlit Keyboard, Windows 10 Home, Slate Grey (20GB RAM | 1TB SSD)\n",
       "236       Acer Chromebook Spin 311 Convertible Laptop | Intel Celeron N4000 | 11.6\" HD Touch Corning Gorilla Glass Display | 4GB LPDDR4 | 64GB eMMC | Intel 802.11ac Gigabit WiFi 5 | Chrome OS | CP311-2H-C7QD\n",
       "237            Lenovo 2022 Premium Ideapad, 14\" HD Screen Lightweight Laptop, Dual-Core Intel Celeron N4020 (Upto 2.8GHZ), 4GB RAM, 64GB eMMC, WiFi, Bluetooth, Webcam, Long Hours, Window 11S+HubxcelAccessory\n",
       "238         Lenovo 14\" Laptop, IdeaPad 1, Intel Quad-core Processor, 14\" HD Anti-Glare Display, 4GB RAM, HDMI, SD Card Reader, Long Battery Life, Includes MS Office 365, Windows 11 Home in S Mode (256GB SSD)\n",
       "239                                                                                                                                 HP 15.6\" HD Intel 10th Gen i3-1005G1 3.4GHz 8GB RAM 256GB SSD Win 10 Laptop\n",
       "240                     ASUS Vivobook S 14 Flip 14” WUXGA 16:10 Touch, AMD Ryzen 5 5600H CPU, 16GB RAM, 512GB SSD, NumberPad, Fingerprint Sensor, Stylus Supported, Windows 11 Home, Quiet Blue, TN3402QA-DB56T\n",
       "241        HP 2023 Newest Pavilion 15.6\" HD Laptop,Intel Quad Core Pentium Processor, 8GB RAM, 256GB SSD, Intel UHD Graphics, WiFi, HD Webcam,Bluetooth, HDMI, RJ-45, Long Battery Life, Win 11+HubxcelAccesory\n",
       "242                      ASUS VivoBook Pro 15X Laptop, 144Hz 15.6” FHD Display, AMD Ryzen 9 6900HX Mobile CPU, NVIDIA GeForce RTX 3070 GPU, 32GB DDR5 RAM, 1TB PCIe SSD, Windows 11 Home, 0°Black, M6501RR-DB96\n",
       "243                               Dell Newest Inspiron 15 3511 Laptop, 15.6\" FHD Touchscreen, Intel Core i5-1035G1, 32GB RAM, 1TB PCIe NVMe M.2 SSD, SD Card Reader, Webcam, HDMI, WiFi, Windows 11 Home, Black\n",
       "244    Acer Nitro 5 AN517-55-72R4 Gaming Laptop | Intel Core i7-12700H | NVIDIA GeForce RTX 3050 Ti Laptop GPU | 17.3\" FHD 144Hz IPS Display | 16GB DDR4 | 1TB PCIe Gen 4 SSD | Killer Wi-Fi 6 | Red Backlit KB\n",
       "245      2022 HP Premium 14-inch HD Thin and Light Laptop, Intel Dual-Core Processor, 32GB RAM, 64GB Storage, Long Battery Life, Webcam, Bluetooth, HDMI, Wi-Fi, Indigo Blue, Windows 10 + 1 Year Microsoft 365\n",
       "246                                 Lenovo IdeaPad 15.6\" Laptop Newest, 15.6 Inch HD Anti-Glare Display, AMD Dual-core Processor, 20GB RAM 1TB SSD, WiFi6 Bluetooth5, 9.5Hr Battery, Windows 11 +GM Accessories\n",
       "247                                                      HP 15.6 Inch Laptop, Intel Iris Xe Graphics, 11th Generation Intel Core Processor, 8 GB RAM, 256 GB SSD, Windows 11 Home (15-dy2024nr, Natural silver)\n",
       "248                               ASUS ZenBook 14 Ultra-Slim Laptop 14” FHD Display, AMD Ryzen 9 5900HX CPU, Radeon Vega 7 Graphics, 16GB RAM, 1TB PCIe SSD, NumberPad, Windows 11 Pro, Pine Grey, UM425QA-XH99\n",
       "249                       Gateway 15.6\" Ultra Slim Notebook, FHD, Intel Core i3-1115G4, Dual Core, 8GB Memory, 256GB SSD, Tuned by THX, 1.0MP Webcam, HDMI, Fingerprint Scanner, Cortana, Windows 10 Home, Blue\n",
       "250            HP 2022 Newest Laptops, 15.6 inch HD Computer, Intel Pentium Silver N5030, 16GB RAM, 1TB SSD, 1-Year Office 365, Ethernet, Webcam, Wi-Fi, Bluetooth, Fast Charge, Windows 10, LIONEYE HDMI Cable\n",
       "251                                          2022 Newest Lenovo IdeaPad 1 Laptop, 14\" Anti-Glare Display, Intel Quad-Core Processor, Intel UHD Graphics, 4GB RAM, 256GB PCIe SSD, Windows 11 + Microfiber Cloth\n",
       "252                                   2022 HP 15.6 FHD Laptop Computer, 11th Gen Intel Core i5 1135G7 Beats Intel i7 1065G7, 16GB RAM, 1TB SSD, Intel Iris X Graphics, HD Webcam, Bluetooth, Win Natural Silver\n",
       "253                                  HP Pavilion Business Laptop, 15.6\" HD Touchscreen, Intel Core i5-1135G7 Processor, Long Battery Life, Compact Design, HP Fast Charge, Windows 11 (16GB RAM | 1TB PCIe SSD)\n",
       "254                                   Lenovo IdeaPad 3 14\" FHD Laptop, 11th Gen Intel 4-Core i7-1165G7, Intel Iris Xe Graphics, 32GB RAM 1TB SSD, Fingerprint Reader, Webcam, WiFi, HDMI, Windows 11 Home, Gray\n",
       "255              2022 Acer Aspire 5 Slim Laptop, 15.6 inch FHD IPS Display, 11th Gen Intel Core i3-1115G4 Processor (Beats Ryzen 3 3250U), WiFi 6, Amazon Alexa, Windows 11 Home in S Mode (20GB RAM | 1TB SSD)\n",
       "256       Lenovo New Ideapad 3 14inch FHD Portable Laptop, Intel Core i7-1165G7(Quad-Core, Up to 4.7GHz ), 20GB RAM, 1TB PCIe SSD, WiFi 6, Fingerprint Reader, Webcam, HDMI, Card Reader, Win11, GM Accessories\n",
       "Name: Nome, dtype: object"
      ]
     },
     "execution_count": 99,
     "metadata": {},
     "output_type": "execute_result"
    }
   ],
   "source": [
    "# Vamos visualizar a coluna Nome\n",
    "df_dados_notebooks['Nome']"
   ]
  },
  {
   "cell_type": "code",
   "execution_count": 100,
   "metadata": {},
   "outputs": [
    {
     "data": {
      "text/plain": [
       "'ASUS VivoBook 15 F515 Thin and Light Laptop, 15.6” FHD Display, Intel Core i3-1005G1 Processor, Fingerprint Reader, Backlit Keyboard, Windows 10 Home, Slate Grey (20GB RAM | 1TB SSD)'"
      ]
     },
     "execution_count": 100,
     "metadata": {},
     "output_type": "execute_result"
    }
   ],
   "source": [
    "# Vamos visualizar um registro\n",
    "df_dados_notebooks['Nome'][3]"
   ]
  },
  {
   "cell_type": "markdown",
   "metadata": {},
   "source": [
    "Agora sim! Primeiro, extrairemos os detalhes do processador e criaremos uma nova coluna com essas informações. Se não compreender a regra usada abaixo com expressão regular, então visite a documentação oficial:\n",
    "\n",
    "https://docs.python.org/3/library/re.html"
   ]
  },
  {
   "cell_type": "code",
   "execution_count": 101,
   "metadata": {},
   "outputs": [],
   "source": [
    "# Regra para buscar o padrão na string do Processador i3,i5,i7,i9,...\n",
    "regra_busca_processador = r'\\b([iI][\\d])\\b'"
   ]
  },
  {
   "cell_type": "code",
   "execution_count": 102,
   "metadata": {},
   "outputs": [],
   "source": [
    "# Cria a coluna para o processador\n",
    "df_dados_notebooks['Processador'] = df_dados_notebooks['Nome'].str.extract(regra_busca_processador)"
   ]
  },
  {
   "cell_type": "markdown",
   "metadata": {},
   "source": [
    "Vamos padronizar o nome do processador substituindo I5 por i5, por exemplo."
   ]
  },
  {
   "cell_type": "code",
   "execution_count": 103,
   "metadata": {},
   "outputs": [],
   "source": [
    "df_dados_notebooks['Processador'] = df_dados_notebooks['Processador'].str.replace('I', 'i')"
   ]
  },
  {
   "cell_type": "code",
   "execution_count": 104,
   "metadata": {},
   "outputs": [
    {
     "data": {
      "text/html": [
       "<div>\n",
       "<style scoped>\n",
       "    .dataframe tbody tr th:only-of-type {\n",
       "        vertical-align: middle;\n",
       "    }\n",
       "\n",
       "    .dataframe tbody tr th {\n",
       "        vertical-align: top;\n",
       "    }\n",
       "\n",
       "    .dataframe thead th {\n",
       "        text-align: right;\n",
       "    }\n",
       "</style>\n",
       "<table border=\"1\" class=\"dataframe\">\n",
       "  <thead>\n",
       "    <tr style=\"text-align: right;\">\n",
       "      <th></th>\n",
       "      <th>Nome</th>\n",
       "      <th>Preco_Final</th>\n",
       "      <th>Avaliacao_Final</th>\n",
       "      <th>Processador</th>\n",
       "    </tr>\n",
       "  </thead>\n",
       "  <tbody>\n",
       "    <tr>\n",
       "      <th>0</th>\n",
       "      <td>Lenovo IdeaPad 15.6\" Laptop Newest, 15.6 Inch HD Anti-Glare Display, AMD Dual-core Processor, 20GB RAM 1TB SSD, WiFi6 Bluetooth5, 9.5Hr Battery, Windows 11 +GM Accessories</td>\n",
       "      <td>400.0</td>\n",
       "      <td>4.3</td>\n",
       "      <td>NaN</td>\n",
       "    </tr>\n",
       "    <tr>\n",
       "      <th>1</th>\n",
       "      <td>Lenovo IdeaPad 15.6\" Laptop Newest, 15.6 Inch HD Anti-Glare Display, AMD Dual-core Processor, 20GB RAM 1TB SSD, WiFi6 Bluetooth5, 9.5Hr Battery, Windows 11 +GM Accessories</td>\n",
       "      <td>400.0</td>\n",
       "      <td>4.3</td>\n",
       "      <td>NaN</td>\n",
       "    </tr>\n",
       "    <tr>\n",
       "      <th>2</th>\n",
       "      <td>Lenovo IdeaPad 15.6\" Laptop Newest, 15.6 Inch HD Anti-Glare Display, AMD Dual-core Processor, 20GB RAM 1TB SSD, WiFi6 Bluetooth5, 9.5Hr Battery, Windows 11 +GM Accessories</td>\n",
       "      <td>400.0</td>\n",
       "      <td>4.3</td>\n",
       "      <td>NaN</td>\n",
       "    </tr>\n",
       "    <tr>\n",
       "      <th>3</th>\n",
       "      <td>ASUS VivoBook 15 F515 Thin and Light Laptop, 15.6” FHD Display, Intel Core i3-1005G1 Processor, Fingerprint Reader, Backlit Keyboard, Windows 10 Home, Slate Grey (20GB RAM | 1TB SSD)</td>\n",
       "      <td>500.0</td>\n",
       "      <td>4.3</td>\n",
       "      <td>i3</td>\n",
       "    </tr>\n",
       "    <tr>\n",
       "      <th>5</th>\n",
       "      <td>Lenovo IdeaPad 15.6\" Laptop Newest, 15.6 Inch HD Anti-Glare Display, AMD Dual-core Processor, 20GB RAM 1TB SSD, WiFi6 Bluetooth5, 9.5Hr Battery, Windows 11 +GM Accessories</td>\n",
       "      <td>400.0</td>\n",
       "      <td>4.3</td>\n",
       "      <td>NaN</td>\n",
       "    </tr>\n",
       "  </tbody>\n",
       "</table>\n",
       "</div>"
      ],
      "text/plain": [
       "                                                                                                                                                                                     Nome  \\\n",
       "0             Lenovo IdeaPad 15.6\" Laptop Newest, 15.6 Inch HD Anti-Glare Display, AMD Dual-core Processor, 20GB RAM 1TB SSD, WiFi6 Bluetooth5, 9.5Hr Battery, Windows 11 +GM Accessories   \n",
       "1             Lenovo IdeaPad 15.6\" Laptop Newest, 15.6 Inch HD Anti-Glare Display, AMD Dual-core Processor, 20GB RAM 1TB SSD, WiFi6 Bluetooth5, 9.5Hr Battery, Windows 11 +GM Accessories   \n",
       "2             Lenovo IdeaPad 15.6\" Laptop Newest, 15.6 Inch HD Anti-Glare Display, AMD Dual-core Processor, 20GB RAM 1TB SSD, WiFi6 Bluetooth5, 9.5Hr Battery, Windows 11 +GM Accessories   \n",
       "3  ASUS VivoBook 15 F515 Thin and Light Laptop, 15.6” FHD Display, Intel Core i3-1005G1 Processor, Fingerprint Reader, Backlit Keyboard, Windows 10 Home, Slate Grey (20GB RAM | 1TB SSD)   \n",
       "5             Lenovo IdeaPad 15.6\" Laptop Newest, 15.6 Inch HD Anti-Glare Display, AMD Dual-core Processor, 20GB RAM 1TB SSD, WiFi6 Bluetooth5, 9.5Hr Battery, Windows 11 +GM Accessories   \n",
       "\n",
       "   Preco_Final  Avaliacao_Final Processador  \n",
       "0        400.0              4.3         NaN  \n",
       "1        400.0              4.3         NaN  \n",
       "2        400.0              4.3         NaN  \n",
       "3        500.0              4.3          i3  \n",
       "5        400.0              4.3         NaN  "
      ]
     },
     "execution_count": 104,
     "metadata": {},
     "output_type": "execute_result"
    }
   ],
   "source": [
    "# Visualiza os dados\n",
    "df_dados_notebooks.head()"
   ]
  },
  {
   "attachments": {},
   "cell_type": "markdown",
   "metadata": {},
   "source": [
    "Valores nulos foram gerados, provavelmente porque alguns laptops devem ter outro tipo de processador.\n",
    "Usaremos o mesmo processo para extrair informações sobre a memória RAM."
   ]
  },
  {
   "attachments": {},
   "cell_type": "markdown",
   "metadata": {},
   "source": [
    "## Vamos extrair no nome do Notebook outros tipos de processadores para nossas análise\n",
    "### Esta varredura buscará o texto **dual core** dentro do nome e colocará como conteúdo na Coluna Processador"
   ]
  },
  {
   "cell_type": "code",
   "execution_count": 105,
   "metadata": {},
   "outputs": [
    {
     "data": {
      "text/plain": [
       "NaN          99\n",
       "i3           39\n",
       "Dual Core    38\n",
       "i7           30\n",
       "i5           23\n",
       "i9            2\n",
       "Name: Processador, dtype: int64"
      ]
     },
     "execution_count": 105,
     "metadata": {},
     "output_type": "execute_result"
    }
   ],
   "source": [
    "for row in df_dados_notebooks.loc[pd.isna(df_dados_notebooks.Processador)].itertuples():\n",
    "    str_lower_nome = str(row.Nome).lower()\n",
    "\n",
    "    if (('dual core' in str_lower_nome) | ('dual-core' in str_lower_nome)):\n",
    "        \n",
    "        df_dados_notebooks.at[row.Index, 'Processador'] = 'Dual Core'\n",
    "\n",
    "df_dados_notebooks['Processador'].value_counts(dropna = False)"
   ]
  },
  {
   "attachments": {},
   "cell_type": "markdown",
   "metadata": {},
   "source": [
    "### Esta varredura buscará o texto **quad core** dentro do nome e colocará como conteúdo na Coluna Processador"
   ]
  },
  {
   "cell_type": "code",
   "execution_count": 106,
   "metadata": {},
   "outputs": [
    {
     "data": {
      "text/plain": [
       "NaN          79\n",
       "i3           39\n",
       "Dual Core    38\n",
       "i7           30\n",
       "i5           23\n",
       "Quad Core    20\n",
       "i9            2\n",
       "Name: Processador, dtype: int64"
      ]
     },
     "execution_count": 106,
     "metadata": {},
     "output_type": "execute_result"
    }
   ],
   "source": [
    "for row in df_dados_notebooks.loc[pd.isna(df_dados_notebooks.Processador)].itertuples():\n",
    "    str_lower_nome = str(row.Nome).lower()\n",
    "\n",
    "    if (('quad core' in str_lower_nome) | ('quad-core' in str_lower_nome)):\n",
    "        \n",
    "        df_dados_notebooks.at[row.Index, 'Processador'] = 'Quad Core'\n",
    "\n",
    "df_dados_notebooks['Processador'].value_counts(dropna = False)"
   ]
  },
  {
   "attachments": {},
   "cell_type": "markdown",
   "metadata": {},
   "source": [
    "### Esta varredura buscará o texto **octa core** dentro do nome e colocará como conteúdo na Coluna Processador"
   ]
  },
  {
   "cell_type": "code",
   "execution_count": 107,
   "metadata": {},
   "outputs": [
    {
     "data": {
      "text/plain": [
       "NaN          78\n",
       "i3           39\n",
       "Dual Core    38\n",
       "i7           30\n",
       "i5           23\n",
       "Quad Core    20\n",
       "i9            2\n",
       "Octa Core     1\n",
       "Name: Processador, dtype: int64"
      ]
     },
     "execution_count": 107,
     "metadata": {},
     "output_type": "execute_result"
    }
   ],
   "source": [
    "for row in df_dados_notebooks.loc[pd.isna(df_dados_notebooks.Processador)].itertuples():\n",
    "    str_lower_nome = str(row.Nome).lower()\n",
    "\n",
    "    if (('octa core' in str_lower_nome) | ('octa-core' in str_lower_nome)):\n",
    "        \n",
    "        df_dados_notebooks.at[row.Index, 'Processador'] = 'Octa Core'\n",
    "        \n",
    "df_dados_notebooks['Processador'].value_counts(dropna = False)"
   ]
  },
  {
   "attachments": {},
   "cell_type": "markdown",
   "metadata": {},
   "source": [
    "### Esta varredura buscará o texto **amd ryzen** dentro do nome e colocará como conteúdo na Coluna Processador"
   ]
  },
  {
   "cell_type": "code",
   "execution_count": 108,
   "metadata": {},
   "outputs": [
    {
     "data": {
      "text/plain": [
       "NaN          58\n",
       "i3           39\n",
       "Dual Core    38\n",
       "i7           30\n",
       "i5           23\n",
       "AMD Ryzen    20\n",
       "Quad Core    20\n",
       "i9            2\n",
       "Octa Core     1\n",
       "Name: Processador, dtype: int64"
      ]
     },
     "execution_count": 108,
     "metadata": {},
     "output_type": "execute_result"
    }
   ],
   "source": [
    "for row in df_dados_notebooks.loc[pd.isna(df_dados_notebooks.Processador)].itertuples():\n",
    "    str_lower_nome = str(row.Nome).lower()\n",
    "\n",
    "    if (('amd ryzen' in str_lower_nome) | ('amd-ryzen' in str_lower_nome)):\n",
    "        \n",
    "        df_dados_notebooks.at[row.Index, 'Processador'] = 'AMD Ryzen'\n",
    "\n",
    "df_dados_notebooks['Processador'].value_counts(dropna = False)"
   ]
  },
  {
   "attachments": {},
   "cell_type": "markdown",
   "metadata": {},
   "source": [
    "### Esta varredura buscará o texto **amd athlon** dentro do nome e colocará como conteúdo na Coluna Processador"
   ]
  },
  {
   "cell_type": "code",
   "execution_count": 109,
   "metadata": {},
   "outputs": [
    {
     "data": {
      "text/plain": [
       "NaN           55\n",
       "i3            39\n",
       "Dual Core     38\n",
       "i7            30\n",
       "i5            23\n",
       "AMD Ryzen     20\n",
       "Quad Core     20\n",
       "AMD Athlon     3\n",
       "i9             2\n",
       "Octa Core      1\n",
       "Name: Processador, dtype: int64"
      ]
     },
     "execution_count": 109,
     "metadata": {},
     "output_type": "execute_result"
    }
   ],
   "source": [
    "for row in df_dados_notebooks.loc[pd.isna(df_dados_notebooks.Processador)].itertuples():\n",
    "    str_lower_nome = str(row.Nome).lower()\n",
    "\n",
    "    if (('amd athlon' in str_lower_nome) | ('amd-athlon' in str_lower_nome)):\n",
    "        \n",
    "        df_dados_notebooks.at[row.Index, 'Processador'] = 'AMD Athlon'\n",
    "\n",
    "df_dados_notebooks['Processador'].value_counts(dropna = False)"
   ]
  },
  {
   "attachments": {},
   "cell_type": "markdown",
   "metadata": {},
   "source": [
    "### Esta varredura buscará o texto ***pentium*** dentro do nome e colocará como conteúdo na Coluna Processador"
   ]
  },
  {
   "cell_type": "code",
   "execution_count": 110,
   "metadata": {},
   "outputs": [
    {
     "data": {
      "text/plain": [
       "NaN           44\n",
       "i3            39\n",
       "Dual Core     38\n",
       "i7            30\n",
       "i5            23\n",
       "AMD Ryzen     20\n",
       "Quad Core     20\n",
       "Pentium       11\n",
       "AMD Athlon     3\n",
       "i9             2\n",
       "Octa Core      1\n",
       "Name: Processador, dtype: int64"
      ]
     },
     "execution_count": 110,
     "metadata": {},
     "output_type": "execute_result"
    }
   ],
   "source": [
    "for row in df_dados_notebooks.loc[pd.isna(df_dados_notebooks.Processador)].itertuples():\n",
    "    str_lower_nome = str(row.Nome).lower()\n",
    "\n",
    "    if (('pentium' in str_lower_nome) | ('intel pentium' in str_lower_nome)):\n",
    "        \n",
    "        df_dados_notebooks.at[row.Index, 'Processador'] = 'Pentium'\n",
    "\n",
    "df_dados_notebooks['Processador'].value_counts(dropna = False)"
   ]
  },
  {
   "attachments": {},
   "cell_type": "markdown",
   "metadata": {},
   "source": [
    "### Esta varredura buscará o texto ***celeron*** dentro do nome e colocará como conteúdo na Coluna Processador"
   ]
  },
  {
   "cell_type": "code",
   "execution_count": 111,
   "metadata": {},
   "outputs": [
    {
     "data": {
      "text/plain": [
       "i3            39\n",
       "Dual Core     38\n",
       "Celeron       37\n",
       "i7            30\n",
       "i5            23\n",
       "AMD Ryzen     20\n",
       "Quad Core     20\n",
       "Pentium       11\n",
       "NaN            7\n",
       "AMD Athlon     3\n",
       "i9             2\n",
       "Octa Core      1\n",
       "Name: Processador, dtype: int64"
      ]
     },
     "execution_count": 111,
     "metadata": {},
     "output_type": "execute_result"
    }
   ],
   "source": [
    "for row in df_dados_notebooks.loc[pd.isna(df_dados_notebooks.Processador)].itertuples():\n",
    "    str_lower_nome = str(row.Nome).lower()\n",
    "\n",
    "    if (('celeron' in str_lower_nome) | ('intel celeron ' in str_lower_nome)):\n",
    "        \n",
    "        df_dados_notebooks.at[row.Index, 'Processador'] = 'Celeron'\n",
    "\n",
    "df_dados_notebooks['Processador'].value_counts(dropna = False)"
   ]
  },
  {
   "cell_type": "code",
   "execution_count": 112,
   "metadata": {
    "scrolled": true
   },
   "outputs": [],
   "source": [
    "# Regra de extração   \n",
    "regra_busca_ram = r'\\b([\\d]+)[GB]+[ ][\\+ LlPpDdRrAaMmEeOoYy\\d]+\\b'"
   ]
  },
  {
   "cell_type": "code",
   "execution_count": 113,
   "metadata": {},
   "outputs": [],
   "source": [
    "# Extrai os dados e cria nova coluna\n",
    "df_dados_notebooks['Memoria_RAM'] = df_dados_notebooks['Nome'].str.extract(regra_busca_ram)"
   ]
  },
  {
   "cell_type": "code",
   "execution_count": 114,
   "metadata": {},
   "outputs": [],
   "source": [
    "# Função para limpar a coluna Memoria_RAM\n",
    "def limpa_ram(ram):\n",
    "    ram = pd.to_numeric(ram)\n",
    "    return ram"
   ]
  },
  {
   "cell_type": "code",
   "execution_count": 115,
   "metadata": {},
   "outputs": [],
   "source": [
    "# Aplica a função de limpeza\n",
    "df_dados_notebooks['Memoria_RAM'] = df_dados_notebooks['Memoria_RAM'].apply(limpa_ram)"
   ]
  },
  {
   "cell_type": "code",
   "execution_count": 116,
   "metadata": {},
   "outputs": [
    {
     "data": {
      "text/html": [
       "<div>\n",
       "<style scoped>\n",
       "    .dataframe tbody tr th:only-of-type {\n",
       "        vertical-align: middle;\n",
       "    }\n",
       "\n",
       "    .dataframe tbody tr th {\n",
       "        vertical-align: top;\n",
       "    }\n",
       "\n",
       "    .dataframe thead th {\n",
       "        text-align: right;\n",
       "    }\n",
       "</style>\n",
       "<table border=\"1\" class=\"dataframe\">\n",
       "  <thead>\n",
       "    <tr style=\"text-align: right;\">\n",
       "      <th></th>\n",
       "      <th>Nome</th>\n",
       "      <th>Preco_Final</th>\n",
       "      <th>Avaliacao_Final</th>\n",
       "      <th>Processador</th>\n",
       "      <th>Memoria_RAM</th>\n",
       "    </tr>\n",
       "  </thead>\n",
       "  <tbody>\n",
       "    <tr>\n",
       "      <th>0</th>\n",
       "      <td>Lenovo IdeaPad 15.6\" Laptop Newest, 15.6 Inch HD Anti-Glare Display, AMD Dual-core Processor, 20GB RAM 1TB SSD, WiFi6 Bluetooth5, 9.5Hr Battery, Windows 11 +GM Accessories</td>\n",
       "      <td>400.0</td>\n",
       "      <td>4.3</td>\n",
       "      <td>Dual Core</td>\n",
       "      <td>20.0</td>\n",
       "    </tr>\n",
       "    <tr>\n",
       "      <th>1</th>\n",
       "      <td>Lenovo IdeaPad 15.6\" Laptop Newest, 15.6 Inch HD Anti-Glare Display, AMD Dual-core Processor, 20GB RAM 1TB SSD, WiFi6 Bluetooth5, 9.5Hr Battery, Windows 11 +GM Accessories</td>\n",
       "      <td>400.0</td>\n",
       "      <td>4.3</td>\n",
       "      <td>Dual Core</td>\n",
       "      <td>20.0</td>\n",
       "    </tr>\n",
       "    <tr>\n",
       "      <th>2</th>\n",
       "      <td>Lenovo IdeaPad 15.6\" Laptop Newest, 15.6 Inch HD Anti-Glare Display, AMD Dual-core Processor, 20GB RAM 1TB SSD, WiFi6 Bluetooth5, 9.5Hr Battery, Windows 11 +GM Accessories</td>\n",
       "      <td>400.0</td>\n",
       "      <td>4.3</td>\n",
       "      <td>Dual Core</td>\n",
       "      <td>20.0</td>\n",
       "    </tr>\n",
       "    <tr>\n",
       "      <th>3</th>\n",
       "      <td>ASUS VivoBook 15 F515 Thin and Light Laptop, 15.6” FHD Display, Intel Core i3-1005G1 Processor, Fingerprint Reader, Backlit Keyboard, Windows 10 Home, Slate Grey (20GB RAM | 1TB SSD)</td>\n",
       "      <td>500.0</td>\n",
       "      <td>4.3</td>\n",
       "      <td>i3</td>\n",
       "      <td>20.0</td>\n",
       "    </tr>\n",
       "    <tr>\n",
       "      <th>5</th>\n",
       "      <td>Lenovo IdeaPad 15.6\" Laptop Newest, 15.6 Inch HD Anti-Glare Display, AMD Dual-core Processor, 20GB RAM 1TB SSD, WiFi6 Bluetooth5, 9.5Hr Battery, Windows 11 +GM Accessories</td>\n",
       "      <td>400.0</td>\n",
       "      <td>4.3</td>\n",
       "      <td>Dual Core</td>\n",
       "      <td>20.0</td>\n",
       "    </tr>\n",
       "  </tbody>\n",
       "</table>\n",
       "</div>"
      ],
      "text/plain": [
       "                                                                                                                                                                                     Nome  \\\n",
       "0             Lenovo IdeaPad 15.6\" Laptop Newest, 15.6 Inch HD Anti-Glare Display, AMD Dual-core Processor, 20GB RAM 1TB SSD, WiFi6 Bluetooth5, 9.5Hr Battery, Windows 11 +GM Accessories   \n",
       "1             Lenovo IdeaPad 15.6\" Laptop Newest, 15.6 Inch HD Anti-Glare Display, AMD Dual-core Processor, 20GB RAM 1TB SSD, WiFi6 Bluetooth5, 9.5Hr Battery, Windows 11 +GM Accessories   \n",
       "2             Lenovo IdeaPad 15.6\" Laptop Newest, 15.6 Inch HD Anti-Glare Display, AMD Dual-core Processor, 20GB RAM 1TB SSD, WiFi6 Bluetooth5, 9.5Hr Battery, Windows 11 +GM Accessories   \n",
       "3  ASUS VivoBook 15 F515 Thin and Light Laptop, 15.6” FHD Display, Intel Core i3-1005G1 Processor, Fingerprint Reader, Backlit Keyboard, Windows 10 Home, Slate Grey (20GB RAM | 1TB SSD)   \n",
       "5             Lenovo IdeaPad 15.6\" Laptop Newest, 15.6 Inch HD Anti-Glare Display, AMD Dual-core Processor, 20GB RAM 1TB SSD, WiFi6 Bluetooth5, 9.5Hr Battery, Windows 11 +GM Accessories   \n",
       "\n",
       "   Preco_Final  Avaliacao_Final Processador  Memoria_RAM  \n",
       "0        400.0              4.3   Dual Core         20.0  \n",
       "1        400.0              4.3   Dual Core         20.0  \n",
       "2        400.0              4.3   Dual Core         20.0  \n",
       "3        500.0              4.3          i3         20.0  \n",
       "5        400.0              4.3   Dual Core         20.0  "
      ]
     },
     "execution_count": 116,
     "metadata": {},
     "output_type": "execute_result"
    }
   ],
   "source": [
    "# Visualiza os dados\n",
    "df_dados_notebooks.head()"
   ]
  },
  {
   "cell_type": "markdown",
   "metadata": {},
   "source": [
    "Por fim, vamos extrair o tamanho da tela do notebook."
   ]
  },
  {
   "cell_type": "code",
   "execution_count": 117,
   "metadata": {},
   "outputs": [],
   "source": [
    "# Regra de extração\n",
    "regra_busca_tela = r'\\b([1][\\d]+[\\.IiNnCcHh\\d]*)[ \\d]*\\b' "
   ]
  },
  {
   "cell_type": "code",
   "execution_count": 118,
   "metadata": {},
   "outputs": [],
   "source": [
    "df_dados_notebooks['Tamanho_Tela'] = df_dados_notebooks['Nome'].str.extract(regra_busca_tela)"
   ]
  },
  {
   "cell_type": "code",
   "execution_count": 119,
   "metadata": {},
   "outputs": [
    {
     "data": {
      "text/plain": [
       "15.6      89\n",
       "14        53\n",
       "15        29\n",
       "11.6      13\n",
       "17.3       8\n",
       "17         8\n",
       "14inch     8\n",
       "12.4       3\n",
       "16         3\n",
       "11         3\n",
       "14.1       3\n",
       "12.4in     2\n",
       "10         2\n",
       "14.0       2\n",
       "11800H     1\n",
       "15inch     1\n",
       "12         1\n",
       "13.3       1\n",
       "12700H     1\n",
       "Name: Tamanho_Tela, dtype: int64"
      ]
     },
     "execution_count": 119,
     "metadata": {},
     "output_type": "execute_result"
    }
   ],
   "source": [
    "# Buscando o total de registros por Tamanho_Tela\n",
    "df_dados_notebooks['Tamanho_Tela'].value_counts(dropna = False)"
   ]
  },
  {
   "cell_type": "code",
   "execution_count": 122,
   "metadata": {},
   "outputs": [],
   "source": [
    "df_dados_notebooks_2 = df_dados_notebooks"
   ]
  },
  {
   "cell_type": "code",
   "execution_count": 120,
   "metadata": {},
   "outputs": [],
   "source": [
    "# Função de limpeza\n",
    "def limpa_tela(size):\n",
    "        try:\n",
    "            size = size.replace('Inch', '')\n",
    "            size = size.replace('inch', '')\n",
    "            size = size.replace('in', '')\n",
    "            size = pd.to_numeric(size)\n",
    "            return size\n",
    "        except:\n",
    "            return np.nan"
   ]
  },
  {
   "cell_type": "code",
   "execution_count": 123,
   "metadata": {},
   "outputs": [],
   "source": [
    "# Aplica a função\n",
    "df_dados_notebooks_2['Tamanho_Tela'] = df_dados_notebooks['Tamanho_Tela'].apply(limpa_tela)"
   ]
  },
  {
   "cell_type": "code",
   "execution_count": 124,
   "metadata": {},
   "outputs": [
    {
     "data": {
      "text/plain": [
       "15.6    89\n",
       "14.0    63\n",
       "15.0    30\n",
       "11.6    13\n",
       "17.3     8\n",
       "17.0     8\n",
       "12.4     5\n",
       "16.0     3\n",
       "11.0     3\n",
       "14.1     3\n",
       "10.0     2\n",
       "NaN      2\n",
       "12.0     1\n",
       "13.3     1\n",
       "Name: Tamanho_Tela, dtype: int64"
      ]
     },
     "execution_count": 124,
     "metadata": {},
     "output_type": "execute_result"
    }
   ],
   "source": [
    "df_dados_notebooks_2['Tamanho_Tela'].value_counts(dropna = False)"
   ]
  },
  {
   "cell_type": "code",
   "execution_count": 125,
   "metadata": {},
   "outputs": [
    {
     "data": {
      "text/plain": [
       "(231, 6)"
      ]
     },
     "execution_count": 125,
     "metadata": {},
     "output_type": "execute_result"
    }
   ],
   "source": [
    "# Shape\n",
    "df_dados_notebooks_2.shape"
   ]
  },
  {
   "cell_type": "code",
   "execution_count": 126,
   "metadata": {},
   "outputs": [
    {
     "data": {
      "text/html": [
       "<div>\n",
       "<style scoped>\n",
       "    .dataframe tbody tr th:only-of-type {\n",
       "        vertical-align: middle;\n",
       "    }\n",
       "\n",
       "    .dataframe tbody tr th {\n",
       "        vertical-align: top;\n",
       "    }\n",
       "\n",
       "    .dataframe thead th {\n",
       "        text-align: right;\n",
       "    }\n",
       "</style>\n",
       "<table border=\"1\" class=\"dataframe\">\n",
       "  <thead>\n",
       "    <tr style=\"text-align: right;\">\n",
       "      <th></th>\n",
       "      <th>Nome</th>\n",
       "      <th>Preco_Final</th>\n",
       "      <th>Avaliacao_Final</th>\n",
       "      <th>Processador</th>\n",
       "      <th>Memoria_RAM</th>\n",
       "      <th>Tamanho_Tela</th>\n",
       "    </tr>\n",
       "  </thead>\n",
       "  <tbody>\n",
       "    <tr>\n",
       "      <th>0</th>\n",
       "      <td>Lenovo IdeaPad 15.6\" Laptop Newest, 15.6 Inch HD Anti-Glare Display, AMD Dual-core Processor, 20GB RAM 1TB SSD, WiFi6 Bluetooth5, 9.5Hr Battery, Windows 11 +GM Accessories</td>\n",
       "      <td>400.0</td>\n",
       "      <td>4.3</td>\n",
       "      <td>Dual Core</td>\n",
       "      <td>20.0</td>\n",
       "      <td>15.6</td>\n",
       "    </tr>\n",
       "    <tr>\n",
       "      <th>1</th>\n",
       "      <td>Lenovo IdeaPad 15.6\" Laptop Newest, 15.6 Inch HD Anti-Glare Display, AMD Dual-core Processor, 20GB RAM 1TB SSD, WiFi6 Bluetooth5, 9.5Hr Battery, Windows 11 +GM Accessories</td>\n",
       "      <td>400.0</td>\n",
       "      <td>4.3</td>\n",
       "      <td>Dual Core</td>\n",
       "      <td>20.0</td>\n",
       "      <td>15.6</td>\n",
       "    </tr>\n",
       "    <tr>\n",
       "      <th>2</th>\n",
       "      <td>Lenovo IdeaPad 15.6\" Laptop Newest, 15.6 Inch HD Anti-Glare Display, AMD Dual-core Processor, 20GB RAM 1TB SSD, WiFi6 Bluetooth5, 9.5Hr Battery, Windows 11 +GM Accessories</td>\n",
       "      <td>400.0</td>\n",
       "      <td>4.3</td>\n",
       "      <td>Dual Core</td>\n",
       "      <td>20.0</td>\n",
       "      <td>15.6</td>\n",
       "    </tr>\n",
       "    <tr>\n",
       "      <th>3</th>\n",
       "      <td>ASUS VivoBook 15 F515 Thin and Light Laptop, 15.6” FHD Display, Intel Core i3-1005G1 Processor, Fingerprint Reader, Backlit Keyboard, Windows 10 Home, Slate Grey (20GB RAM | 1TB SSD)</td>\n",
       "      <td>500.0</td>\n",
       "      <td>4.3</td>\n",
       "      <td>i3</td>\n",
       "      <td>20.0</td>\n",
       "      <td>15.0</td>\n",
       "    </tr>\n",
       "    <tr>\n",
       "      <th>5</th>\n",
       "      <td>Lenovo IdeaPad 15.6\" Laptop Newest, 15.6 Inch HD Anti-Glare Display, AMD Dual-core Processor, 20GB RAM 1TB SSD, WiFi6 Bluetooth5, 9.5Hr Battery, Windows 11 +GM Accessories</td>\n",
       "      <td>400.0</td>\n",
       "      <td>4.3</td>\n",
       "      <td>Dual Core</td>\n",
       "      <td>20.0</td>\n",
       "      <td>15.6</td>\n",
       "    </tr>\n",
       "  </tbody>\n",
       "</table>\n",
       "</div>"
      ],
      "text/plain": [
       "                                                                                                                                                                                     Nome  \\\n",
       "0             Lenovo IdeaPad 15.6\" Laptop Newest, 15.6 Inch HD Anti-Glare Display, AMD Dual-core Processor, 20GB RAM 1TB SSD, WiFi6 Bluetooth5, 9.5Hr Battery, Windows 11 +GM Accessories   \n",
       "1             Lenovo IdeaPad 15.6\" Laptop Newest, 15.6 Inch HD Anti-Glare Display, AMD Dual-core Processor, 20GB RAM 1TB SSD, WiFi6 Bluetooth5, 9.5Hr Battery, Windows 11 +GM Accessories   \n",
       "2             Lenovo IdeaPad 15.6\" Laptop Newest, 15.6 Inch HD Anti-Glare Display, AMD Dual-core Processor, 20GB RAM 1TB SSD, WiFi6 Bluetooth5, 9.5Hr Battery, Windows 11 +GM Accessories   \n",
       "3  ASUS VivoBook 15 F515 Thin and Light Laptop, 15.6” FHD Display, Intel Core i3-1005G1 Processor, Fingerprint Reader, Backlit Keyboard, Windows 10 Home, Slate Grey (20GB RAM | 1TB SSD)   \n",
       "5             Lenovo IdeaPad 15.6\" Laptop Newest, 15.6 Inch HD Anti-Glare Display, AMD Dual-core Processor, 20GB RAM 1TB SSD, WiFi6 Bluetooth5, 9.5Hr Battery, Windows 11 +GM Accessories   \n",
       "\n",
       "   Preco_Final  Avaliacao_Final Processador  Memoria_RAM  Tamanho_Tela  \n",
       "0        400.0              4.3   Dual Core         20.0          15.6  \n",
       "1        400.0              4.3   Dual Core         20.0          15.6  \n",
       "2        400.0              4.3   Dual Core         20.0          15.6  \n",
       "3        500.0              4.3          i3         20.0          15.0  \n",
       "5        400.0              4.3   Dual Core         20.0          15.6  "
      ]
     },
     "execution_count": 126,
     "metadata": {},
     "output_type": "execute_result"
    }
   ],
   "source": [
    "# Visualiza os dados\n",
    "df_dados_notebooks_2.head()"
   ]
  },
  {
   "cell_type": "code",
   "execution_count": 127,
   "metadata": {},
   "outputs": [],
   "source": [
    "df_dados_notebooks_2.to_csv('df_dados_notebooks_2.csv', encoding = \"utf-8\", index = False)"
   ]
  },
  {
   "cell_type": "code",
   "execution_count": 128,
   "metadata": {},
   "outputs": [],
   "source": [
    "df = pd.read_csv(\"df_dados_notebooks_2.csv\", encoding = \"utf-8\")"
   ]
  },
  {
   "cell_type": "code",
   "execution_count": 129,
   "metadata": {},
   "outputs": [
    {
     "data": {
      "text/plain": [
       "(231, 6)"
      ]
     },
     "execution_count": 129,
     "metadata": {},
     "output_type": "execute_result"
    }
   ],
   "source": [
    "df.shape"
   ]
  },
  {
   "attachments": {},
   "cell_type": "markdown",
   "metadata": {},
   "source": [
    "## Analytics\n",
    "\n",
    "Estamos prontos para realizar nossa análise!"
   ]
  },
  {
   "attachments": {},
   "cell_type": "markdown",
   "metadata": {},
   "source": [
    "## Algumas Análises...\n",
    "\n",
    "## Lembre-se, toda a análise refletirá o momento da busca! Pouco tempo depois, com um nova consulta, tudo pode modificar!\n",
    "\n",
    "### 1. Quais os notes mais bem avaliados - TOP 5 - Excluíndo Celeron e Pentium?\n",
    "### 2. Qual a média de valor dos notes i7?\n",
    "### 3. Qual o menor valor dos notes i9?\n",
    "### 4. Quais note Quad Core estão com avaliação acima de 4.5?\n",
    "\n",
    "## ***Podem ser infinitas análises!!!***"
   ]
  },
  {
   "attachments": {},
   "cell_type": "markdown",
   "metadata": {},
   "source": [
    "### 1. Quais os notes mais bem avaliados - TOP 10 - Excluíndo Celeron e Pentium?"
   ]
  },
  {
   "cell_type": "code",
   "execution_count": 141,
   "metadata": {},
   "outputs": [
    {
     "data": {
      "text/html": [
       "<div>\n",
       "<style scoped>\n",
       "    .dataframe tbody tr th:only-of-type {\n",
       "        vertical-align: middle;\n",
       "    }\n",
       "\n",
       "    .dataframe tbody tr th {\n",
       "        vertical-align: top;\n",
       "    }\n",
       "\n",
       "    .dataframe thead th {\n",
       "        text-align: right;\n",
       "    }\n",
       "</style>\n",
       "<table border=\"1\" class=\"dataframe\">\n",
       "  <thead>\n",
       "    <tr style=\"text-align: right;\">\n",
       "      <th></th>\n",
       "      <th>Nome</th>\n",
       "      <th>Preco_Final</th>\n",
       "      <th>Avaliacao_Final</th>\n",
       "      <th>Processador</th>\n",
       "      <th>Memoria_RAM</th>\n",
       "      <th>Tamanho_Tela</th>\n",
       "    </tr>\n",
       "  </thead>\n",
       "  <tbody>\n",
       "    <tr>\n",
       "      <th>214</th>\n",
       "      <td>ASUS Vivobook S 14 Flip 14” WUXGA 16:10 Touch, AMD Ryzen 5 5600H CPU, 16GB RAM, 512GB SSD, NumberPad, Fingerprint Sensor, Stylus Supported, Windows 11 Home, Quiet Blue, TN3402QA-DB56T</td>\n",
       "      <td>881.0</td>\n",
       "      <td>5.0</td>\n",
       "      <td>AMD Ryzen</td>\n",
       "      <td>16.0</td>\n",
       "      <td>14.0</td>\n",
       "    </tr>\n",
       "    <tr>\n",
       "      <th>119</th>\n",
       "      <td>Lenovo Ideapad 15.6\" HD Laptop, Athlon Silver 3050U (Beats i3-1005G1) Dual-core Processor, 8GB RAM, 128GB SSD, WiFi, Webcam, Bluetooth, Win 11 S, Cloud Grey, TGC Bundle</td>\n",
       "      <td>290.0</td>\n",
       "      <td>5.0</td>\n",
       "      <td>i3</td>\n",
       "      <td>8.0</td>\n",
       "      <td>15.6</td>\n",
       "    </tr>\n",
       "    <tr>\n",
       "      <th>171</th>\n",
       "      <td>OEM Lenovo ThinkPad E15 Gen 2 15.6\" FHD IPS, AMD Ryzen 7 4700U Octa Core (Beats Intel i7-1255U), 40GB RAM, 1TB NVMe, W10P, Business Laptop</td>\n",
       "      <td>900.0</td>\n",
       "      <td>5.0</td>\n",
       "      <td>i7</td>\n",
       "      <td>40.0</td>\n",
       "      <td>15.6</td>\n",
       "    </tr>\n",
       "    <tr>\n",
       "      <th>200</th>\n",
       "      <td>ASUS Vivobook S 14 Flip 14” WUXGA 16:10 Touch, AMD Ryzen 5 5600H CPU, 16GB RAM, 512GB SSD, NumberPad, Fingerprint Sensor, Stylus Supported, Windows 11 Home, Quiet Blue, TN3402QA-DB56T</td>\n",
       "      <td>881.0</td>\n",
       "      <td>5.0</td>\n",
       "      <td>AMD Ryzen</td>\n",
       "      <td>16.0</td>\n",
       "      <td>14.0</td>\n",
       "    </tr>\n",
       "    <tr>\n",
       "      <th>216</th>\n",
       "      <td>ASUS VivoBook Pro 15X Laptop, 144Hz 15.6” FHD Display, AMD Ryzen 9 6900HX Mobile CPU, NVIDIA GeForce RTX 3070 GPU, 32GB DDR5 RAM, 1TB PCIe SSD, Windows 11 Home, 0°Black, M6501RR-DB96</td>\n",
       "      <td>1500.0</td>\n",
       "      <td>4.8</td>\n",
       "      <td>AMD Ryzen</td>\n",
       "      <td>32.0</td>\n",
       "      <td>15.6</td>\n",
       "    </tr>\n",
       "    <tr>\n",
       "      <th>49</th>\n",
       "      <td>Lenovo ThinkBook 15 Premium Business Laptop, AMD Ryzen 5 5500U Processor (6 Cores, 4.0GHz), 15.6\" FHD IPS Anti-Glare Display, 20GB RAM, 1TB SSD, Backlit Keyboard, Fingerprint Reader, Windows 11 Pro</td>\n",
       "      <td>649.0</td>\n",
       "      <td>4.7</td>\n",
       "      <td>AMD Ryzen</td>\n",
       "      <td>20.0</td>\n",
       "      <td>15.0</td>\n",
       "    </tr>\n",
       "    <tr>\n",
       "      <th>131</th>\n",
       "      <td>Lenovo Flex 3 Chromebook 2-in-1 11.6\" HD (1366 x 768) Touchscreen Laptop (4-Core MediaTek MT8173C, 4GB RAM, 128GB (64GB eMMC+64GB SD Card)) flip-and-fold, Type-C, Webcam, Chrome OS</td>\n",
       "      <td>220.0</td>\n",
       "      <td>4.7</td>\n",
       "      <td>NaN</td>\n",
       "      <td>4.0</td>\n",
       "      <td>11.6</td>\n",
       "    </tr>\n",
       "    <tr>\n",
       "      <th>217</th>\n",
       "      <td>Dell Newest Inspiron 15 3511 Laptop, 15.6\" FHD Touchscreen, Intel Core i5-1035G1, 32GB RAM, 1TB PCIe NVMe M.2 SSD, SD Card Reader, Webcam, HDMI, WiFi, Windows 11 Home, Black</td>\n",
       "      <td>589.0</td>\n",
       "      <td>4.7</td>\n",
       "      <td>i5</td>\n",
       "      <td>32.0</td>\n",
       "      <td>15.0</td>\n",
       "    </tr>\n",
       "    <tr>\n",
       "      <th>36</th>\n",
       "      <td>HP Newest 15.6\" Laptop , FHD, AMD R5-5500U, 8GB RAM, 256GB SSD, USB Type-C and USB Type-A , HDMI, Built-in Microphone/ Webcam, Windows 11, Spruce Blue</td>\n",
       "      <td>459.0</td>\n",
       "      <td>4.7</td>\n",
       "      <td>NaN</td>\n",
       "      <td>8.0</td>\n",
       "      <td>15.6</td>\n",
       "    </tr>\n",
       "    <tr>\n",
       "      <th>9</th>\n",
       "      <td>Lenovo ThinkBook 15 Premium Business Laptop, AMD Ryzen 5 5500U Processor (6 Cores, 4.0GHz), 15.6\" FHD IPS Anti-Glare Display, 20GB RAM, 1TB SSD, Backlit Keyboard, Fingerprint Reader, Windows 11 Pro</td>\n",
       "      <td>649.0</td>\n",
       "      <td>4.7</td>\n",
       "      <td>AMD Ryzen</td>\n",
       "      <td>20.0</td>\n",
       "      <td>15.0</td>\n",
       "    </tr>\n",
       "  </tbody>\n",
       "</table>\n",
       "</div>"
      ],
      "text/plain": [
       "                                                                                                                                                                                                      Nome  \\\n",
       "214                ASUS Vivobook S 14 Flip 14” WUXGA 16:10 Touch, AMD Ryzen 5 5600H CPU, 16GB RAM, 512GB SSD, NumberPad, Fingerprint Sensor, Stylus Supported, Windows 11 Home, Quiet Blue, TN3402QA-DB56T   \n",
       "119                               Lenovo Ideapad 15.6\" HD Laptop, Athlon Silver 3050U (Beats i3-1005G1) Dual-core Processor, 8GB RAM, 128GB SSD, WiFi, Webcam, Bluetooth, Win 11 S, Cloud Grey, TGC Bundle   \n",
       "171                                                             OEM Lenovo ThinkPad E15 Gen 2 15.6\" FHD IPS, AMD Ryzen 7 4700U Octa Core (Beats Intel i7-1255U), 40GB RAM, 1TB NVMe, W10P, Business Laptop   \n",
       "200                ASUS Vivobook S 14 Flip 14” WUXGA 16:10 Touch, AMD Ryzen 5 5600H CPU, 16GB RAM, 512GB SSD, NumberPad, Fingerprint Sensor, Stylus Supported, Windows 11 Home, Quiet Blue, TN3402QA-DB56T   \n",
       "216                 ASUS VivoBook Pro 15X Laptop, 144Hz 15.6” FHD Display, AMD Ryzen 9 6900HX Mobile CPU, NVIDIA GeForce RTX 3070 GPU, 32GB DDR5 RAM, 1TB PCIe SSD, Windows 11 Home, 0°Black, M6501RR-DB96   \n",
       "49   Lenovo ThinkBook 15 Premium Business Laptop, AMD Ryzen 5 5500U Processor (6 Cores, 4.0GHz), 15.6\" FHD IPS Anti-Glare Display, 20GB RAM, 1TB SSD, Backlit Keyboard, Fingerprint Reader, Windows 11 Pro   \n",
       "131                   Lenovo Flex 3 Chromebook 2-in-1 11.6\" HD (1366 x 768) Touchscreen Laptop (4-Core MediaTek MT8173C, 4GB RAM, 128GB (64GB eMMC+64GB SD Card)) flip-and-fold, Type-C, Webcam, Chrome OS   \n",
       "217                          Dell Newest Inspiron 15 3511 Laptop, 15.6\" FHD Touchscreen, Intel Core i5-1035G1, 32GB RAM, 1TB PCIe NVMe M.2 SSD, SD Card Reader, Webcam, HDMI, WiFi, Windows 11 Home, Black   \n",
       "36                                                  HP Newest 15.6\" Laptop , FHD, AMD R5-5500U, 8GB RAM, 256GB SSD, USB Type-C and USB Type-A , HDMI, Built-in Microphone/ Webcam, Windows 11, Spruce Blue   \n",
       "9    Lenovo ThinkBook 15 Premium Business Laptop, AMD Ryzen 5 5500U Processor (6 Cores, 4.0GHz), 15.6\" FHD IPS Anti-Glare Display, 20GB RAM, 1TB SSD, Backlit Keyboard, Fingerprint Reader, Windows 11 Pro   \n",
       "\n",
       "     Preco_Final  Avaliacao_Final Processador  Memoria_RAM  Tamanho_Tela  \n",
       "214        881.0              5.0   AMD Ryzen         16.0          14.0  \n",
       "119        290.0              5.0          i3          8.0          15.6  \n",
       "171        900.0              5.0          i7         40.0          15.6  \n",
       "200        881.0              5.0   AMD Ryzen         16.0          14.0  \n",
       "216       1500.0              4.8   AMD Ryzen         32.0          15.6  \n",
       "49         649.0              4.7   AMD Ryzen         20.0          15.0  \n",
       "131        220.0              4.7         NaN          4.0          11.6  \n",
       "217        589.0              4.7          i5         32.0          15.0  \n",
       "36         459.0              4.7         NaN          8.0          15.6  \n",
       "9          649.0              4.7   AMD Ryzen         20.0          15.0  "
      ]
     },
     "execution_count": 141,
     "metadata": {},
     "output_type": "execute_result"
    }
   ],
   "source": [
    "df[(df['Processador']!='Celeron') & (df['Processador'] != 'Pentium')].sort_values(by='Avaliacao_Final', ascending=False)[:10]\n"
   ]
  },
  {
   "attachments": {},
   "cell_type": "markdown",
   "metadata": {},
   "source": [
    "### 2. Qual a média de valor dos notes i7?"
   ]
  },
  {
   "cell_type": "code",
   "execution_count": 143,
   "metadata": {},
   "outputs": [
    {
     "data": {
      "text/plain": [
       "868.4333333333333"
      ]
     },
     "execution_count": 143,
     "metadata": {},
     "output_type": "execute_result"
    }
   ],
   "source": [
    "df[(df['Processador']=='i7')]['Preco_Final'].mean()"
   ]
  },
  {
   "cell_type": "code",
   "execution_count": 144,
   "metadata": {},
   "outputs": [
    {
     "data": {
      "text/plain": [
       "count      30.000000\n",
       "mean      868.433333\n",
       "std       261.758731\n",
       "min       549.000000\n",
       "25%       599.000000\n",
       "50%       829.000000\n",
       "75%      1081.750000\n",
       "max      1300.000000\n",
       "Name: Preco_Final, dtype: float64"
      ]
     },
     "execution_count": 144,
     "metadata": {},
     "output_type": "execute_result"
    }
   ],
   "source": [
    "df[(df['Processador']=='i7')]['Preco_Final'].describe()"
   ]
  },
  {
   "attachments": {},
   "cell_type": "markdown",
   "metadata": {},
   "source": [
    "### 3. Qual o menor valor dos notes i9?"
   ]
  },
  {
   "cell_type": "code",
   "execution_count": 145,
   "metadata": {},
   "outputs": [
    {
     "data": {
      "text/plain": [
       "2045.0"
      ]
     },
     "execution_count": 145,
     "metadata": {},
     "output_type": "execute_result"
    }
   ],
   "source": [
    "df[(df['Processador']=='i9')]['Preco_Final'].min()"
   ]
  },
  {
   "attachments": {},
   "cell_type": "markdown",
   "metadata": {},
   "source": [
    "### 4. Quais note Quad Core estão com avaliação igual ou maior que 4.5?"
   ]
  },
  {
   "cell_type": "code",
   "execution_count": 150,
   "metadata": {},
   "outputs": [
    {
     "data": {
      "text/html": [
       "<div>\n",
       "<style scoped>\n",
       "    .dataframe tbody tr th:only-of-type {\n",
       "        vertical-align: middle;\n",
       "    }\n",
       "\n",
       "    .dataframe tbody tr th {\n",
       "        vertical-align: top;\n",
       "    }\n",
       "\n",
       "    .dataframe thead th {\n",
       "        text-align: right;\n",
       "    }\n",
       "</style>\n",
       "<table border=\"1\" class=\"dataframe\">\n",
       "  <thead>\n",
       "    <tr style=\"text-align: right;\">\n",
       "      <th></th>\n",
       "      <th>Nome</th>\n",
       "      <th>Preco_Final</th>\n",
       "      <th>Avaliacao_Final</th>\n",
       "      <th>Processador</th>\n",
       "      <th>Memoria_RAM</th>\n",
       "      <th>Tamanho_Tela</th>\n",
       "    </tr>\n",
       "  </thead>\n",
       "  <tbody>\n",
       "    <tr>\n",
       "      <th>89</th>\n",
       "      <td>jumper Laptop 14 Inch, 12GB DDR4 256GB SSD, Thin Light Computer with FHD 1080p Display, Intel Quad Core Processor, Windows 11 Laptops, Dual-Band WiFi(2.4G/5G), Dual Speakers, Webcam, 35520mWH Battery</td>\n",
       "      <td>290.0</td>\n",
       "      <td>4.7</td>\n",
       "      <td>Quad Core</td>\n",
       "      <td>12.0</td>\n",
       "      <td>14.0</td>\n",
       "    </tr>\n",
       "    <tr>\n",
       "      <th>112</th>\n",
       "      <td>Chicbuy Laptop 15.6''12GB DDR4 512GB SSD Quad-Core Intel Celeron N5095 Processors Windows 11 Laptop Computer,1080P IPS Full HD Laptop,USB 3.0,Up to 2.9Ghz,Bluetooth 4.2,2.4G/5G WiFi,Long Battery Life</td>\n",
       "      <td>296.0</td>\n",
       "      <td>4.6</td>\n",
       "      <td>Quad Core</td>\n",
       "      <td>12.0</td>\n",
       "      <td>15.6</td>\n",
       "    </tr>\n",
       "    <tr>\n",
       "      <th>128</th>\n",
       "      <td>Tulasi 12GB RAM 256GB SSD Intel Celeron N4120 Quad-Core Windows 11 Laptop Computers, 14 inch Full HD 1080P IPS Display Ultra Slim Laptop, 2.4G/5G WiFi, Bluetooth 4.2, Webcam, Long Battery Life</td>\n",
       "      <td>299.0</td>\n",
       "      <td>4.6</td>\n",
       "      <td>Quad Core</td>\n",
       "      <td>12.0</td>\n",
       "      <td>11.0</td>\n",
       "    </tr>\n",
       "    <tr>\n",
       "      <th>41</th>\n",
       "      <td>Lenovo 2023 Newest Ideapad 1i Laptop, 14 inch HD Display, Intel Quad-Core Processor, 4GB RAM, 256GB Storage, Wi-Fi 6, Bluetooth, Cloud Grey, Windows 11 Home in S Mode, Bundle with JAWFOAL</td>\n",
       "      <td>220.0</td>\n",
       "      <td>4.5</td>\n",
       "      <td>Quad Core</td>\n",
       "      <td>4.0</td>\n",
       "      <td>14.0</td>\n",
       "    </tr>\n",
       "    <tr>\n",
       "      <th>81</th>\n",
       "      <td>Lenovo 2023 Newest Ideapad 1i Laptop, 14 inch HD Display, Intel Quad-Core Processor, 4GB RAM, 256GB Storage, Wi-Fi 6, Bluetooth, Cloud Grey, Windows 11 Home in S Mode, Bundle with JAWFOAL</td>\n",
       "      <td>220.0</td>\n",
       "      <td>4.5</td>\n",
       "      <td>Quad Core</td>\n",
       "      <td>4.0</td>\n",
       "      <td>14.0</td>\n",
       "    </tr>\n",
       "  </tbody>\n",
       "</table>\n",
       "</div>"
      ],
      "text/plain": [
       "                                                                                                                                                                                                        Nome  \\\n",
       "89   jumper Laptop 14 Inch, 12GB DDR4 256GB SSD, Thin Light Computer with FHD 1080p Display, Intel Quad Core Processor, Windows 11 Laptops, Dual-Band WiFi(2.4G/5G), Dual Speakers, Webcam, 35520mWH Battery   \n",
       "112  Chicbuy Laptop 15.6''12GB DDR4 512GB SSD Quad-Core Intel Celeron N5095 Processors Windows 11 Laptop Computer,1080P IPS Full HD Laptop,USB 3.0,Up to 2.9Ghz,Bluetooth 4.2,2.4G/5G WiFi,Long Battery Life   \n",
       "128         Tulasi 12GB RAM 256GB SSD Intel Celeron N4120 Quad-Core Windows 11 Laptop Computers, 14 inch Full HD 1080P IPS Display Ultra Slim Laptop, 2.4G/5G WiFi, Bluetooth 4.2, Webcam, Long Battery Life   \n",
       "41               Lenovo 2023 Newest Ideapad 1i Laptop, 14 inch HD Display, Intel Quad-Core Processor, 4GB RAM, 256GB Storage, Wi-Fi 6, Bluetooth, Cloud Grey, Windows 11 Home in S Mode, Bundle with JAWFOAL   \n",
       "81               Lenovo 2023 Newest Ideapad 1i Laptop, 14 inch HD Display, Intel Quad-Core Processor, 4GB RAM, 256GB Storage, Wi-Fi 6, Bluetooth, Cloud Grey, Windows 11 Home in S Mode, Bundle with JAWFOAL   \n",
       "\n",
       "     Preco_Final  Avaliacao_Final Processador  Memoria_RAM  Tamanho_Tela  \n",
       "89         290.0              4.7   Quad Core         12.0          14.0  \n",
       "112        296.0              4.6   Quad Core         12.0          15.6  \n",
       "128        299.0              4.6   Quad Core         12.0          11.0  \n",
       "41         220.0              4.5   Quad Core          4.0          14.0  \n",
       "81         220.0              4.5   Quad Core          4.0          14.0  "
      ]
     },
     "execution_count": 150,
     "metadata": {},
     "output_type": "execute_result"
    }
   ],
   "source": [
    "df[(df['Processador']=='Quad Core') & (df['Avaliacao_Final'] >= 4.5)].sort_values(by='Avaliacao_Final', ascending=False)"
   ]
  },
  {
   "cell_type": "code",
   "execution_count": 152,
   "metadata": {},
   "outputs": [
    {
     "data": {
      "text/plain": [
       "count      5.000000\n",
       "mean     265.000000\n",
       "std       41.206796\n",
       "min      220.000000\n",
       "25%      220.000000\n",
       "50%      290.000000\n",
       "75%      296.000000\n",
       "max      299.000000\n",
       "Name: Preco_Final, dtype: float64"
      ]
     },
     "execution_count": 152,
     "metadata": {},
     "output_type": "execute_result"
    }
   ],
   "source": [
    "df[(df['Processador']=='Quad Core') & (df['Avaliacao_Final'] >= 4.5)].sort_values(by='Avaliacao_Final', ascending=False)['Preco_Final'].describe()"
   ]
  }
 ],
 "metadata": {
  "kernelspec": {
   "display_name": "base",
   "language": "python",
   "name": "python3"
  },
  "language_info": {
   "codemirror_mode": {
    "name": "ipython",
    "version": 3
   },
   "file_extension": ".py",
   "mimetype": "text/x-python",
   "name": "python",
   "nbconvert_exporter": "python",
   "pygments_lexer": "ipython3",
   "version": "3.9.13"
  },
  "vscode": {
   "interpreter": {
    "hash": "b09ec625f77bf4fd762565a912b97636504ad6ec901eb2d0f4cf5a7de23e1ee5"
   }
  }
 },
 "nbformat": 4,
 "nbformat_minor": 2
}
